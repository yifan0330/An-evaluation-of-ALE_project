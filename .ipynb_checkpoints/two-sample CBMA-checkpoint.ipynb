{
 "cells": [
  {
   "cell_type": "code",
   "execution_count": 2,
   "metadata": {},
   "outputs": [],
   "source": [
    "import os\n",
    "\n",
    "import numpy as np\n",
    "import pandas as pd \n",
    "from nilearn.plotting import plot_stat_map\n",
    "import json\n",
    "import csv\n",
    "import nimare\n",
    "from nimare.correct import FWECorrector\n",
    "from ale import ALESubtraction\n",
    "from nimare.results import MetaResult\n",
    "from nimare.transforms import tal2mni\n",
    "from nilearn.plotting import plot_stat_map\n",
    "#from nimare.tests.utils import get_test_data_path"
   ]
  },
  {
   "cell_type": "markdown",
   "metadata": {},
   "source": [
    "### import emotion dataset"
   ]
  },
  {
   "cell_type": "code",
   "execution_count": 3,
   "metadata": {},
   "outputs": [
    {
     "data": {
      "text/plain": [
       "Index(['Study', 'headstable', 'Scan', 'ROI', 'CoordSys', 'Subjects', 'Women',\n",
       "       'Gender', 'Mode', 'FixedRandom', 'Stimuli', 'Method_', 'Emotion',\n",
       "       'Valence', 'EERMean', 'EERSD', 'EERRS', 'Subtraction', 'Contrast',\n",
       "       'Target', 'Ref', 'Other', 'Intrascan_cog', 'x', 'y', 'z', 'zscore',\n",
       "       'tscore', 'p_threshold', 'pcorrection', 'Region', 'Notes',\n",
       "       'SubjectiveWeights', 'Affect_focus', 'Cog_load', 'object_eval',\n",
       "       'feel_arousal', 'phys_arous'],\n",
       "      dtype='object')"
      ]
     },
     "execution_count": 3,
     "metadata": {},
     "output_type": "execute_result"
    }
   ],
   "source": [
    "emotion_dset = pd.read_csv('meta061106.csv')\n",
    "emotion_dset.keys()"
   ]
  },
  {
   "cell_type": "code",
   "execution_count": 4,
   "metadata": {},
   "outputs": [
    {
     "data": {
      "text/html": [
       "<div>\n",
       "<style scoped>\n",
       "    .dataframe tbody tr th:only-of-type {\n",
       "        vertical-align: middle;\n",
       "    }\n",
       "\n",
       "    .dataframe tbody tr th {\n",
       "        vertical-align: top;\n",
       "    }\n",
       "\n",
       "    .dataframe thead th {\n",
       "        text-align: right;\n",
       "    }\n",
       "</style>\n",
       "<table border=\"1\" class=\"dataframe\">\n",
       "  <thead>\n",
       "    <tr style=\"text-align: right;\">\n",
       "      <th></th>\n",
       "      <th>Study</th>\n",
       "      <th>headstable</th>\n",
       "      <th>Scan</th>\n",
       "      <th>ROI</th>\n",
       "      <th>CoordSys</th>\n",
       "      <th>Subjects</th>\n",
       "      <th>Women</th>\n",
       "      <th>Gender</th>\n",
       "      <th>Mode</th>\n",
       "      <th>FixedRandom</th>\n",
       "      <th>...</th>\n",
       "      <th>p_threshold</th>\n",
       "      <th>pcorrection</th>\n",
       "      <th>Region</th>\n",
       "      <th>Notes</th>\n",
       "      <th>SubjectiveWeights</th>\n",
       "      <th>Affect_focus</th>\n",
       "      <th>Cog_load</th>\n",
       "      <th>object_eval</th>\n",
       "      <th>feel_arousal</th>\n",
       "      <th>phys_arous</th>\n",
       "    </tr>\n",
       "  </thead>\n",
       "  <tbody>\n",
       "    <tr>\n",
       "      <th>0</th>\n",
       "      <td>Aalto2002</td>\n",
       "      <td>no</td>\n",
       "      <td>PET</td>\n",
       "      <td>no</td>\n",
       "      <td>SPM99</td>\n",
       "      <td>11</td>\n",
       "      <td>11.0</td>\n",
       "      <td>f</td>\n",
       "      <td>exp</td>\n",
       "      <td>rand</td>\n",
       "      <td>...</td>\n",
       "      <td>0.01</td>\n",
       "      <td>corrected</td>\n",
       "      <td>L_superior_temporal_gyrus</td>\n",
       "      <td>NaN</td>\n",
       "      <td>1.0</td>\n",
       "      <td>NaN</td>\n",
       "      <td>no</td>\n",
       "      <td>NaN</td>\n",
       "      <td>neutral</td>\n",
       "      <td>n</td>\n",
       "    </tr>\n",
       "    <tr>\n",
       "      <th>1</th>\n",
       "      <td>Aalto2002</td>\n",
       "      <td>no</td>\n",
       "      <td>PET</td>\n",
       "      <td>no</td>\n",
       "      <td>SPM99</td>\n",
       "      <td>11</td>\n",
       "      <td>11.0</td>\n",
       "      <td>f</td>\n",
       "      <td>exp</td>\n",
       "      <td>rand</td>\n",
       "      <td>...</td>\n",
       "      <td>0.01</td>\n",
       "      <td>corrected</td>\n",
       "      <td>L_superior_temporal_gyrus</td>\n",
       "      <td>NaN</td>\n",
       "      <td>1.0</td>\n",
       "      <td>NaN</td>\n",
       "      <td>no</td>\n",
       "      <td>NaN</td>\n",
       "      <td>neutral</td>\n",
       "      <td>n</td>\n",
       "    </tr>\n",
       "    <tr>\n",
       "      <th>2</th>\n",
       "      <td>Aalto2002</td>\n",
       "      <td>no</td>\n",
       "      <td>PET</td>\n",
       "      <td>no</td>\n",
       "      <td>SPM99</td>\n",
       "      <td>11</td>\n",
       "      <td>11.0</td>\n",
       "      <td>f</td>\n",
       "      <td>exp</td>\n",
       "      <td>rand</td>\n",
       "      <td>...</td>\n",
       "      <td>0.01</td>\n",
       "      <td>corrected</td>\n",
       "      <td>L_inferior_temporal_gyrus</td>\n",
       "      <td>NaN</td>\n",
       "      <td>1.0</td>\n",
       "      <td>NaN</td>\n",
       "      <td>no</td>\n",
       "      <td>NaN</td>\n",
       "      <td>neutral</td>\n",
       "      <td>n</td>\n",
       "    </tr>\n",
       "    <tr>\n",
       "      <th>3</th>\n",
       "      <td>Aalto2002</td>\n",
       "      <td>no</td>\n",
       "      <td>PET</td>\n",
       "      <td>no</td>\n",
       "      <td>SPM99</td>\n",
       "      <td>11</td>\n",
       "      <td>11.0</td>\n",
       "      <td>f</td>\n",
       "      <td>exp</td>\n",
       "      <td>rand</td>\n",
       "      <td>...</td>\n",
       "      <td>0.01</td>\n",
       "      <td>corrected</td>\n",
       "      <td>L_superior_temporal_gyrus</td>\n",
       "      <td>NaN</td>\n",
       "      <td>1.0</td>\n",
       "      <td>NaN</td>\n",
       "      <td>no</td>\n",
       "      <td>NaN</td>\n",
       "      <td>neutral</td>\n",
       "      <td>n</td>\n",
       "    </tr>\n",
       "    <tr>\n",
       "      <th>4</th>\n",
       "      <td>Aalto2002</td>\n",
       "      <td>no</td>\n",
       "      <td>PET</td>\n",
       "      <td>no</td>\n",
       "      <td>SPM99</td>\n",
       "      <td>11</td>\n",
       "      <td>11.0</td>\n",
       "      <td>f</td>\n",
       "      <td>exp</td>\n",
       "      <td>rand</td>\n",
       "      <td>...</td>\n",
       "      <td>0.01</td>\n",
       "      <td>corrected</td>\n",
       "      <td>R_middle_temporal_gyrus</td>\n",
       "      <td>NaN</td>\n",
       "      <td>1.0</td>\n",
       "      <td>NaN</td>\n",
       "      <td>no</td>\n",
       "      <td>NaN</td>\n",
       "      <td>neutral</td>\n",
       "      <td>n</td>\n",
       "    </tr>\n",
       "    <tr>\n",
       "      <th>...</th>\n",
       "      <td>...</td>\n",
       "      <td>...</td>\n",
       "      <td>...</td>\n",
       "      <td>...</td>\n",
       "      <td>...</td>\n",
       "      <td>...</td>\n",
       "      <td>...</td>\n",
       "      <td>...</td>\n",
       "      <td>...</td>\n",
       "      <td>...</td>\n",
       "      <td>...</td>\n",
       "      <td>...</td>\n",
       "      <td>...</td>\n",
       "      <td>...</td>\n",
       "      <td>...</td>\n",
       "      <td>...</td>\n",
       "      <td>...</td>\n",
       "      <td>...</td>\n",
       "      <td>...</td>\n",
       "      <td>...</td>\n",
       "      <td>...</td>\n",
       "    </tr>\n",
       "    <tr>\n",
       "      <th>2473</th>\n",
       "      <td>Gur2002</td>\n",
       "      <td>no</td>\n",
       "      <td>fMRI</td>\n",
       "      <td>no</td>\n",
       "      <td>MNI</td>\n",
       "      <td>14</td>\n",
       "      <td>7.0</td>\n",
       "      <td>b</td>\n",
       "      <td>per</td>\n",
       "      <td>rand</td>\n",
       "      <td>...</td>\n",
       "      <td>0.05</td>\n",
       "      <td>corrected</td>\n",
       "      <td>R_Thalamus</td>\n",
       "      <td>NaN</td>\n",
       "      <td>1.0</td>\n",
       "      <td>foreground</td>\n",
       "      <td>yes</td>\n",
       "      <td>stimulus</td>\n",
       "      <td>NaN</td>\n",
       "      <td>n</td>\n",
       "    </tr>\n",
       "    <tr>\n",
       "      <th>2474</th>\n",
       "      <td>Gur2002</td>\n",
       "      <td>no</td>\n",
       "      <td>fMRI</td>\n",
       "      <td>no</td>\n",
       "      <td>MNI</td>\n",
       "      <td>14</td>\n",
       "      <td>7.0</td>\n",
       "      <td>b</td>\n",
       "      <td>per</td>\n",
       "      <td>rand</td>\n",
       "      <td>...</td>\n",
       "      <td>0.05</td>\n",
       "      <td>corrected</td>\n",
       "      <td>L_Inferior_frontal</td>\n",
       "      <td>NaN</td>\n",
       "      <td>1.0</td>\n",
       "      <td>foreground</td>\n",
       "      <td>yes</td>\n",
       "      <td>stimulus</td>\n",
       "      <td>NaN</td>\n",
       "      <td>n</td>\n",
       "    </tr>\n",
       "    <tr>\n",
       "      <th>2475</th>\n",
       "      <td>Gur2002</td>\n",
       "      <td>no</td>\n",
       "      <td>fMRI</td>\n",
       "      <td>no</td>\n",
       "      <td>MNI</td>\n",
       "      <td>14</td>\n",
       "      <td>7.0</td>\n",
       "      <td>b</td>\n",
       "      <td>per</td>\n",
       "      <td>rand</td>\n",
       "      <td>...</td>\n",
       "      <td>0.05</td>\n",
       "      <td>corrected</td>\n",
       "      <td>R_Inferior_frontal</td>\n",
       "      <td>NaN</td>\n",
       "      <td>1.0</td>\n",
       "      <td>foreground</td>\n",
       "      <td>yes</td>\n",
       "      <td>stimulus</td>\n",
       "      <td>NaN</td>\n",
       "      <td>n</td>\n",
       "    </tr>\n",
       "    <tr>\n",
       "      <th>2476</th>\n",
       "      <td>Gur2002</td>\n",
       "      <td>no</td>\n",
       "      <td>fMRI</td>\n",
       "      <td>no</td>\n",
       "      <td>MNI</td>\n",
       "      <td>14</td>\n",
       "      <td>7.0</td>\n",
       "      <td>b</td>\n",
       "      <td>per</td>\n",
       "      <td>rand</td>\n",
       "      <td>...</td>\n",
       "      <td>0.05</td>\n",
       "      <td>corrected</td>\n",
       "      <td>L_occipital</td>\n",
       "      <td>NaN</td>\n",
       "      <td>1.0</td>\n",
       "      <td>foreground</td>\n",
       "      <td>yes</td>\n",
       "      <td>stimulus</td>\n",
       "      <td>NaN</td>\n",
       "      <td>n</td>\n",
       "    </tr>\n",
       "    <tr>\n",
       "      <th>2477</th>\n",
       "      <td>Gur2002</td>\n",
       "      <td>no</td>\n",
       "      <td>fMRI</td>\n",
       "      <td>no</td>\n",
       "      <td>MNI</td>\n",
       "      <td>14</td>\n",
       "      <td>7.0</td>\n",
       "      <td>b</td>\n",
       "      <td>per</td>\n",
       "      <td>rand</td>\n",
       "      <td>...</td>\n",
       "      <td>0.05</td>\n",
       "      <td>corrected</td>\n",
       "      <td>R_occipital</td>\n",
       "      <td>NaN</td>\n",
       "      <td>1.0</td>\n",
       "      <td>foreground</td>\n",
       "      <td>yes</td>\n",
       "      <td>stimulus</td>\n",
       "      <td>NaN</td>\n",
       "      <td>n</td>\n",
       "    </tr>\n",
       "  </tbody>\n",
       "</table>\n",
       "<p>2478 rows × 38 columns</p>\n",
       "</div>"
      ],
      "text/plain": [
       "          Study headstable  Scan ROI CoordSys  Subjects  Women Gender Mode  \\\n",
       "0     Aalto2002         no   PET  no    SPM99        11   11.0      f  exp   \n",
       "1     Aalto2002         no   PET  no    SPM99        11   11.0      f  exp   \n",
       "2     Aalto2002         no   PET  no    SPM99        11   11.0      f  exp   \n",
       "3     Aalto2002         no   PET  no    SPM99        11   11.0      f  exp   \n",
       "4     Aalto2002         no   PET  no    SPM99        11   11.0      f  exp   \n",
       "...         ...        ...   ...  ..      ...       ...    ...    ...  ...   \n",
       "2473    Gur2002         no  fMRI  no      MNI        14    7.0      b  per   \n",
       "2474    Gur2002         no  fMRI  no      MNI        14    7.0      b  per   \n",
       "2475    Gur2002         no  fMRI  no      MNI        14    7.0      b  per   \n",
       "2476    Gur2002         no  fMRI  no      MNI        14    7.0      b  per   \n",
       "2477    Gur2002         no  fMRI  no      MNI        14    7.0      b  per   \n",
       "\n",
       "     FixedRandom  ... p_threshold pcorrection                     Region  \\\n",
       "0           rand  ...        0.01   corrected  L_superior_temporal_gyrus   \n",
       "1           rand  ...        0.01   corrected  L_superior_temporal_gyrus   \n",
       "2           rand  ...        0.01   corrected  L_inferior_temporal_gyrus   \n",
       "3           rand  ...        0.01   corrected  L_superior_temporal_gyrus   \n",
       "4           rand  ...        0.01   corrected    R_middle_temporal_gyrus   \n",
       "...          ...  ...         ...         ...                        ...   \n",
       "2473        rand  ...        0.05   corrected                 R_Thalamus   \n",
       "2474        rand  ...        0.05   corrected         L_Inferior_frontal   \n",
       "2475        rand  ...        0.05   corrected         R_Inferior_frontal   \n",
       "2476        rand  ...        0.05   corrected                L_occipital   \n",
       "2477        rand  ...        0.05   corrected                R_occipital   \n",
       "\n",
       "     Notes SubjectiveWeights Affect_focus Cog_load object_eval  feel_arousal  \\\n",
       "0      NaN               1.0          NaN       no         NaN       neutral   \n",
       "1      NaN               1.0          NaN       no         NaN       neutral   \n",
       "2      NaN               1.0          NaN       no         NaN       neutral   \n",
       "3      NaN               1.0          NaN       no         NaN       neutral   \n",
       "4      NaN               1.0          NaN       no         NaN       neutral   \n",
       "...    ...               ...          ...      ...         ...           ...   \n",
       "2473   NaN               1.0   foreground      yes    stimulus           NaN   \n",
       "2474   NaN               1.0   foreground      yes    stimulus           NaN   \n",
       "2475   NaN               1.0   foreground      yes    stimulus           NaN   \n",
       "2476   NaN               1.0   foreground      yes    stimulus           NaN   \n",
       "2477   NaN               1.0   foreground      yes    stimulus           NaN   \n",
       "\n",
       "     phys_arous  \n",
       "0             n  \n",
       "1             n  \n",
       "2             n  \n",
       "3             n  \n",
       "4             n  \n",
       "...         ...  \n",
       "2473          n  \n",
       "2474          n  \n",
       "2475          n  \n",
       "2476          n  \n",
       "2477          n  \n",
       "\n",
       "[2478 rows x 38 columns]"
      ]
     },
     "execution_count": 4,
     "metadata": {},
     "output_type": "execute_result"
    }
   ],
   "source": [
    "emotion_dset"
   ]
  },
  {
   "cell_type": "code",
   "execution_count": 5,
   "metadata": {},
   "outputs": [
    {
     "name": "stdout",
     "output_type": "stream",
     "text": [
      "There are 8 types of emotions: ['mixed', 'aff', 'happy', 'sad', 'fear', 'disgust', 'surprise', 'anger']\n"
     ]
    }
   ],
   "source": [
    "emotion_list = list(emotion_dset.loc[:,'Emotion'])\n",
    "unique_emotion_list = list(set(emotion_list))\n",
    "print('There are 8 types of emotions:', unique_emotion_list)"
   ]
  },
  {
   "cell_type": "markdown",
   "metadata": {},
   "source": [
    "### rearrange studies by emotion"
   ]
  },
  {
   "cell_type": "code",
   "execution_count": 28,
   "metadata": {},
   "outputs": [],
   "source": [
    "emotion_category = dict() # use 8 types of emotions as keys\n",
    "for emotion in unique_emotion_list:\n",
    "    columns = emotion_dset.loc[emotion_dset['Emotion'] == emotion]\n",
    "    foci = list(columns.loc[:,'Study'])\n",
    "    study = list(set(foci))\n",
    "    emotion_category[emotion] = study\n",
    "#print(emotion_category)"
   ]
  },
  {
   "cell_type": "code",
   "execution_count": null,
   "metadata": {},
   "outputs": [],
   "source": []
  },
  {
   "cell_type": "code",
   "execution_count": 10,
   "metadata": {},
   "outputs": [],
   "source": [
    "emotion_data = {}\n",
    "\n",
    "with open('meta061106.csv') as csvFile:\n",
    "    csvReader = csv.DictReader(csvFile)\n",
    "    prev_study_id = ''\n",
    "    for rows in csvReader:\n",
    "        emotion = rows['Emotion']\n",
    "        study_id = rows['Study']\n",
    "        contrast = rows['Contrast']\n",
    "        coordinate_system = 'MNI'#rows['CoordSys']\n",
    "        sample_size = int(rows['Subjects'])\n",
    "        \n",
    "        #transform into MNI space\n",
    "        xyz_coord = np.array([float(rows['x']), float(rows['y']), float(rows['z'])]).reshape((1,3))\n",
    "        xyz_coord = tal2mni(xyz_coord)\n",
    "        \n",
    "        if study_id != prev_study_id:\n",
    "            x_coord, y_coord, z_coord = [xyz_coord[0][0]], [xyz_coord[0][1]], [xyz_coord[0][2]]\n",
    "            #[float(rows['x'])], [float(rows['y'])], [float(rows['z'])]\n",
    "    \n",
    "        else:\n",
    "            x_coord.append(xyz_coord[0][0])\n",
    "            y_coord.append(xyz_coord[0][1])\n",
    "            z_coord.append(xyz_coord[0][2])\n",
    "        prev_study_id = study_id\n",
    "        coord = {'space':coordinate_system,'x':x_coord, 'y': y_coord, 'z': z_coord}\n",
    "        \n",
    "        meta_data = {'sample_sizes':[sample_size]}\n",
    "        \n",
    "        emotion_data[study_id] = {'contrasts':{contrast:{'coords':coord, 'metadata':meta_data}}}\n"
   ]
  },
  {
   "cell_type": "code",
   "execution_count": 25,
   "metadata": {},
   "outputs": [],
   "source": [
    "def categorized_data(emotion_type):\n",
    "    categorized_data = {}\n",
    "    categorized_studies = emotion_category[emotion_type]\n",
    "\n",
    "    with open('meta061106.csv') as csvFile:\n",
    "        csvReader = csv.DictReader(csvFile)\n",
    "        prev_study_id = ''\n",
    "        for rows in csvReader:\n",
    "            emotion = rows['Emotion']\n",
    "            if emotion == emotion_type:\n",
    "                study_id = rows['Study']\n",
    "                contrast = rows['Contrast']\n",
    "                coordinate_system = 'MNI'#rows['CoordSys']\n",
    "                sample_size = int(rows['Subjects'])\n",
    "\n",
    "                #transform into MNI space\n",
    "                xyz_coord = np.array([float(rows['x']), float(rows['y']), float(rows['z'])]).reshape((1,3))\n",
    "                xyz_coord = tal2mni(xyz_coord)\n",
    "\n",
    "                if study_id != prev_study_id:\n",
    "                    x_coord, y_coord, z_coord = [xyz_coord[0][0]], [xyz_coord[0][1]], [xyz_coord[0][2]]\n",
    "\n",
    "                else:\n",
    "                    x_coord.append(xyz_coord[0][0])\n",
    "                    y_coord.append(xyz_coord[0][1])\n",
    "                    z_coord.append(xyz_coord[0][2])\n",
    "                prev_study_id = study_id\n",
    "                coord = {'space':coordinate_system,'x':x_coord, 'y': y_coord, 'z': z_coord}\n",
    "                meta_data = {'sample_sizes':[sample_size]}\n",
    "\n",
    "                categorized_data[study_id] = {'contrasts':{contrast:{'coords':coord, 'metadata':meta_data}}}\n",
    "\n",
    "    return categorized_data"
   ]
  },
  {
   "cell_type": "code",
   "execution_count": 29,
   "metadata": {},
   "outputs": [],
   "source": [
    "mixed_data = categorized_data(emotion_type='mixed')\n",
    "aff_data = categorized_data(emotion_type='aff')\n",
    "happy_data = categorized_data(emotion_type='happy')\n",
    "sad_data = categorized_data(emotion_type='sad')\n",
    "fear_data = categorized_data(emotion_type='fear')\n",
    "disgust_data = categorized_data(emotion_type='disgust')\n",
    "surprise_data = categorized_data(emotion_type='surprise')\n",
    "anger_data = categorized_data(emotion_type='anger')\n"
   ]
  },
  {
   "cell_type": "code",
   "execution_count": 56,
   "metadata": {},
   "outputs": [],
   "source": [
    "# convert emotion_data from dictionary to nimare.dataset\n",
    "emotion_dset = nimare.dataset.Dataset(emotion_data)\n",
    "\n",
    "mask_img = emotion_dset.masker.mask_img\n",
    "mask_array = np.array(mask_img.dataobj)\n",
    "mask_array[mask_array>0] = 1"
   ]
  },
  {
   "cell_type": "code",
   "execution_count": 57,
   "metadata": {},
   "outputs": [
    {
     "data": {
      "text/plain": [
       "<nimare.dataset.Dataset at 0x7f8631409290>"
      ]
     },
     "execution_count": 57,
     "metadata": {},
     "output_type": "execute_result"
    }
   ],
   "source": [
    "emotion_dset"
   ]
  },
  {
   "cell_type": "code",
   "execution_count": 30,
   "metadata": {},
   "outputs": [],
   "source": [
    "mixed_dset = nimare.dataset.Dataset(mixed_data)\n",
    "mask_img_mixed = mixed_dset.masker.mask_img\n",
    "\n",
    "aff_dset = nimare.dataset.Dataset(aff_data)\n",
    "mask_img_aff = aff_dset.masker.mask_img\n",
    "\n",
    "happy_dset = nimare.dataset.Dataset(happy_data)\n",
    "mask_img_happy = happy_dset.masker.mask_img\n",
    "\n",
    "sad_dset = nimare.dataset.Dataset(sad_data)\n",
    "mask_img_sad = sad_dset.masker.mask_img\n",
    "\n",
    "fear_dset = nimare.dataset.Dataset(fear_data)\n",
    "mask_img_fear = fear_dset.masker.mask_img\n",
    "\n",
    "disgust_dset = nimare.dataset.Dataset(disgust_data)\n",
    "mask_img_disgust = disgust_dset.masker.mask_img\n",
    "\n",
    "surprise_dset = nimare.dataset.Dataset(surprise_data)\n",
    "mask_img_surprise = surprise_dset.masker.mask_img\n",
    "\n",
    "anger_dset = nimare.dataset.Dataset(anger_data)\n",
    "mask_img_anger = anger_dset.masker.mask_img"
   ]
  },
  {
   "cell_type": "code",
   "execution_count": 31,
   "metadata": {},
   "outputs": [
    {
     "data": {
      "text/plain": [
       "<nimare.results.MetaResult at 0x7fd0e032f750>"
      ]
     },
     "execution_count": 31,
     "metadata": {},
     "output_type": "execute_result"
    }
   ],
   "source": [
    "mixed_ale = nimare.meta.cbma.ALE()\n",
    "mixed_ale.fit(mixed_dset)\n",
    "\n",
    "aff_ale = nimare.meta.cbma.ALE()\n",
    "aff_ale.fit(aff_dset)\n",
    "\n",
    "happy_ale = nimare.meta.cbma.ALE()\n",
    "happy_ale.fit(happy_dset)\n",
    "\n",
    "sad_ale = nimare.meta.cbma.ALE()\n",
    "sad_ale.fit(sad_dset)\n",
    "\n",
    "fear_ale = nimare.meta.cbma.ALE()\n",
    "fear_ale.fit(fear_dset)\n",
    "\n",
    "disgust_ale = nimare.meta.cbma.ALE()\n",
    "disgust_ale.fit(disgust_dset)\n",
    "\n",
    "surprise_ale = nimare.meta.cbma.ALE()\n",
    "surprise_ale.fit(surprise_dset)\n",
    "\n",
    "anger_ale = nimare.meta.cbma.ALE()\n",
    "anger_ale.fit(anger_dset)"
   ]
  },
  {
   "cell_type": "markdown",
   "metadata": {},
   "source": [
    "### ALE Subtraction analysis"
   ]
  },
  {
   "cell_type": "code",
   "execution_count": 94,
   "metadata": {},
   "outputs": [],
   "source": [
    "from ale import ALESubtraction\n",
    "\n",
    "ale_subtraction = ALESubtraction(n_iters=1000)\n",
    "result = ale_subtraction.fit(sad_ale, fear_ale)\n",
    "ale_subtraction2 = nimare.meta.cbma.ale.ALESubtraction(n_iters=1000)\n",
    "result2 = ale_subtraction2.fit(sad_ale, fear_ale)"
   ]
  },
  {
   "cell_type": "code",
   "execution_count": 95,
   "metadata": {},
   "outputs": [],
   "source": [
    "corrector = FWECorrector(method='bonferroni',n_iters=1000, voxel_thresh=0.001, n_cores=-1)\n",
    "corrected_result = corrector.transform(result)\n",
    "corrected_p_value = corrected_result.get_map(name='p', return_type='array')"
   ]
  },
  {
   "cell_type": "code",
   "execution_count": 96,
   "metadata": {},
   "outputs": [
    {
     "name": "stdout",
     "output_type": "stream",
     "text": [
      "210610 16997\n"
     ]
    }
   ],
   "source": [
    "fail_to_reject = (corrected_p_value > 0.05).sum()\n",
    "reject = ((corrected_p_value <= 0.05) & (corrected_p_value>0)).sum() #reject\n",
    "print(fail_to_reject,reject)"
   ]
  },
  {
   "cell_type": "code",
   "execution_count": 97,
   "metadata": {},
   "outputs": [
    {
     "data": {
      "text/plain": [
       "<nilearn.plotting.displays.OrthoSlicer at 0x7fd0f2a16d90>"
      ]
     },
     "execution_count": 97,
     "metadata": {},
     "output_type": "execute_result"
    },
    {
     "data": {
      "image/png": "[encoded data removed]",
      "text/plain": [
       "<Figure size 525.6x187.2 with 5 Axes>"
      ]
     },
     "metadata": {},
     "output_type": "display_data"
    }
   ],
   "source": [
    "plot_stat_map(result2.get_map('z_desc-group1MinusGroup2'),\n",
    "              draw_cross=False, cmap='RdBu_r')"
   ]
  },
  {
   "cell_type": "code",
   "execution_count": 68,
   "metadata": {},
   "outputs": [
    {
     "ename": "TypeError",
     "evalue": "Cannot cast array data from dtype('float64') to dtype('int64') according to the rule 'safe'",
     "output_type": "error",
     "traceback": [
      "\u001b[0;31m---------------------------------------------------------------------------\u001b[0m",
      "\u001b[0;31mTypeError\u001b[0m                                 Traceback (most recent call last)",
      "\u001b[0;32m<ipython-input-68-a8e25224e489>\u001b[0m in \u001b[0;36m<module>\u001b[0;34m\u001b[0m\n\u001b[1;32m      1\u001b[0m \u001b[0;31m# replace the nonzero voxels in brain mask with its corrected p value\u001b[0m\u001b[0;34m\u001b[0m\u001b[0;34m\u001b[0m\u001b[0;34m\u001b[0m\u001b[0m\n\u001b[1;32m      2\u001b[0m \u001b[0mcorrected_p_mask\u001b[0m \u001b[0;34m=\u001b[0m \u001b[0mmask_array\u001b[0m\u001b[0;34m.\u001b[0m\u001b[0mcopy\u001b[0m\u001b[0;34m(\u001b[0m\u001b[0;34m)\u001b[0m\u001b[0;34m\u001b[0m\u001b[0;34m\u001b[0m\u001b[0m\n\u001b[0;32m----> 3\u001b[0;31m \u001b[0mnp\u001b[0m\u001b[0;34m.\u001b[0m\u001b[0mplace\u001b[0m\u001b[0;34m(\u001b[0m\u001b[0mcorrected_p_mask\u001b[0m\u001b[0;34m,\u001b[0m \u001b[0mcorrected_p_mask\u001b[0m\u001b[0;34m==\u001b[0m\u001b[0;36m1.0\u001b[0m\u001b[0;34m,\u001b[0m \u001b[0mcorrected_p_value\u001b[0m\u001b[0;34m)\u001b[0m\u001b[0;34m\u001b[0m\u001b[0;34m\u001b[0m\u001b[0m\n\u001b[0m",
      "\u001b[0;32m<__array_function__ internals>\u001b[0m in \u001b[0;36mplace\u001b[0;34m(*args, **kwargs)\u001b[0m\n",
      "\u001b[0;32m/opt/anaconda3/lib/python3.7/site-packages/numpy/lib/function_base.py\u001b[0m in \u001b[0;36mplace\u001b[0;34m(arr, mask, vals)\u001b[0m\n\u001b[1;32m   1723\u001b[0m                         \"not {name}\".format(name=type(arr).__name__))\n\u001b[1;32m   1724\u001b[0m \u001b[0;34m\u001b[0m\u001b[0m\n\u001b[0;32m-> 1725\u001b[0;31m     \u001b[0;32mreturn\u001b[0m \u001b[0m_insert\u001b[0m\u001b[0;34m(\u001b[0m\u001b[0marr\u001b[0m\u001b[0;34m,\u001b[0m \u001b[0mmask\u001b[0m\u001b[0;34m,\u001b[0m \u001b[0mvals\u001b[0m\u001b[0;34m)\u001b[0m\u001b[0;34m\u001b[0m\u001b[0;34m\u001b[0m\u001b[0m\n\u001b[0m\u001b[1;32m   1726\u001b[0m \u001b[0;34m\u001b[0m\u001b[0m\n\u001b[1;32m   1727\u001b[0m \u001b[0;34m\u001b[0m\u001b[0m\n",
      "\u001b[0;31mTypeError\u001b[0m: Cannot cast array data from dtype('float64') to dtype('int64') according to the rule 'safe'"
     ]
    }
   ],
   "source": [
    "# replace the nonzero voxels in brain mask with its corrected p value\n",
    "corrected_p_mask = mask_array.copy()\n",
    "np.place(corrected_p_mask, corrected_p_mask==1.0, corrected_p_value)"
   ]
  },
  {
   "cell_type": "code",
   "execution_count": null,
   "metadata": {},
   "outputs": [],
   "source": []
  },
  {
   "cell_type": "code",
   "execution_count": 18,
   "metadata": {},
   "outputs": [],
   "source": [
    "corrector = nimare.correct.FWECorrector(method='bonferroni', voxel_thresh=0.001, n_iters=10000, n_cores=-1)\n",
    "corrected_result = corrector.transform(result)"
   ]
  },
  {
   "cell_type": "code",
   "execution_count": 19,
   "metadata": {},
   "outputs": [],
   "source": [
    "corrected_p_value = corrected_result.get_map(name='p', return_type='array')"
   ]
  },
  {
   "cell_type": "code",
   "execution_count": 69,
   "metadata": {},
   "outputs": [
    {
     "name": "stdout",
     "output_type": "stream",
     "text": [
      "213102 10173\n"
     ]
    }
   ],
   "source": [
    "fail_to_reject = (corrected_p_value > 0.05).sum()\n",
    "reject = ((corrected_p_value <= 0.05) & (corrected_p_value>0.01)).sum() #reject\n",
    "print(fail_to_reject,reject)"
   ]
  },
  {
   "cell_type": "code",
   "execution_count": 21,
   "metadata": {},
   "outputs": [
    {
     "data": {
      "text/plain": [
       "352327"
      ]
     },
     "execution_count": 21,
     "metadata": {},
     "output_type": "execute_result"
    }
   ],
   "source": [
    "349459+2868"
   ]
  },
  {
   "cell_type": "code",
   "execution_count": null,
   "metadata": {},
   "outputs": [],
   "source": []
  },
  {
   "cell_type": "code",
   "execution_count": null,
   "metadata": {},
   "outputs": [],
   "source": []
  },
  {
   "cell_type": "code",
   "execution_count": 22,
   "metadata": {},
   "outputs": [],
   "source": [
    "\n",
    "emotion_ale = nimare.meta.cbma.ALE()\n",
    "emotion_ale_fit = emotion_ale.fit(emotion_dset)\n",
    "\n",
    "emotion_ale_array = emotion_ale_fit.get_map(name='ale', return_type='array')\n",
    "emotion_ale_map = emotion_ale_fit.get_map(name='ale', return_type='map')"
   ]
  },
  {
   "cell_type": "code",
   "execution_count": 23,
   "metadata": {},
   "outputs": [],
   "source": [
    "\n",
    "happy_ale = nimare.meta.cbma.ALE()\n",
    "happy_ale_fit = happy_ale.fit(happy_dset)\n",
    "\n",
    "happy_ale_array = happy_ale_fit.get_map(name='ale', return_type='array')\n",
    "happy_ale_map = happy_ale_fit.get_map(name='ale', return_type='map')"
   ]
  },
  {
   "cell_type": "code",
   "execution_count": 24,
   "metadata": {},
   "outputs": [],
   "source": [
    "sad_ale = nimare.meta.cbma.ALE()\n",
    "sad_ale_fit = sad_ale.fit(happy_dset)\n",
    "\n",
    "sad_ale_array = sad_ale_fit.get_map(name='ale', return_type='array')\n",
    "sad_ale_map = sad_ale_fit.get_map(name='ale', return_type='map')"
   ]
  },
  {
   "cell_type": "code",
   "execution_count": 25,
   "metadata": {},
   "outputs": [],
   "source": [
    "# ale difference between happy/sad\n",
    "ale_diff = nimare.meta.cbma.ALESubtraction()\n",
    "ale_diff_fit = ale_diff.fit(happy_ale, sad_ale)\n",
    "\n"
   ]
  },
  {
   "cell_type": "code",
   "execution_count": 26,
   "metadata": {},
   "outputs": [
    {
     "data": {
      "text/plain": [
       "{'z_desc-group1MinusGroup2': array([0., 0., 0., ..., 0., 0., 0.])}"
      ]
     },
     "execution_count": 26,
     "metadata": {},
     "output_type": "execute_result"
    }
   ],
   "source": [
    "ale_diff_fit.maps"
   ]
  },
  {
   "cell_type": "code",
   "execution_count": 27,
   "metadata": {},
   "outputs": [],
   "source": [
    "#ale_diff_array = ale_diff_fit.get_map(name='ale', return_type='array')\n",
    "ale_diff_map = ale_diff_fit.get_map(name='z_desc-group1MinusGroup2', return_type='map')"
   ]
  },
  {
   "cell_type": "code",
   "execution_count": 28,
   "metadata": {},
   "outputs": [
    {
     "data": {
      "text/plain": [
       "(228453,)"
      ]
     },
     "execution_count": 28,
     "metadata": {},
     "output_type": "execute_result"
    }
   ],
   "source": [
    "ale_diff_map.shape"
   ]
  },
  {
   "cell_type": "code",
   "execution_count": 29,
   "metadata": {},
   "outputs": [
    {
     "data": {
      "text/plain": [
       "228453"
      ]
     },
     "execution_count": 29,
     "metadata": {},
     "output_type": "execute_result"
    }
   ],
   "source": [
    "228453"
   ]
  },
  {
   "cell_type": "code",
   "execution_count": 37,
   "metadata": {},
   "outputs": [
    {
     "data": {
      "text/plain": [
       "300876.3333333333"
      ]
     },
     "execution_count": 37,
     "metadata": {},
     "output_type": "execute_result"
    }
   ],
   "source": []
  },
  {
   "cell_type": "code",
   "execution_count": null,
   "metadata": {},
   "outputs": [],
   "source": []
  },
  {
   "cell_type": "code",
   "execution_count": null,
   "metadata": {},
   "outputs": [],
   "source": []
  },
  {
   "cell_type": "code",
   "execution_count": null,
   "metadata": {},
   "outputs": [],
   "source": []
  }
 ],
 "metadata": {
  "kernelspec": {
   "display_name": "Python 3",
   "language": "python",
   "name": "python3"
  },
  "language_info": {
   "codemirror_mode": {
    "name": "ipython",
    "version": 3
   },
   "file_extension": ".py",
   "mimetype": "text/x-python",
   "name": "python",
   "nbconvert_exporter": "python",
   "pygments_lexer": "ipython3",
   "version": "3.7.6"
  }
 },
 "nbformat": 4,
 "nbformat_minor": 4
}
