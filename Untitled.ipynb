{
 "cells": [
  {
   "cell_type": "code",
   "execution_count": 3,
   "metadata": {},
   "outputs": [
    {
     "name": "stderr",
     "output_type": "stream",
     "text": [
      "ERROR:duecredit:Failed to import duecredit due to No module named 'duecredit'\n"
     ]
    },
    {
     "name": "stdout",
     "output_type": "stream",
     "text": [
      "200725-17:50:48,68 nipype.utils INFO:\n",
      "\t Running nipype version 1.4.2 (latest: 1.5.0)\n"
     ]
    },
    {
     "name": "stderr",
     "output_type": "stream",
     "text": [
      "INFO:nipype.utils:Running nipype version 1.4.2 (latest: 1.5.0)\n"
     ]
    }
   ],
   "source": [
    "import os\n",
    "\n",
    "import numpy as np\n",
    "from nilearn.plotting import plot_stat_map\n",
    "\n",
    "import nimare\n",
    "from nimare.tests.utils import get_test_data_path"
   ]
  },
  {
   "cell_type": "code",
   "execution_count": 2,
   "metadata": {},
   "outputs": [],
   "source": [
    "dset_file = os.path.join(get_test_data_path(), 'nidm_pain_dset.json')\n",
    "dset = nimare.dataset.Dataset(dset_file)\n",
    "\n",
    "mask_img = dset.masker.mask_img"
   ]
  },
  {
   "cell_type": "code",
   "execution_count": 4,
   "metadata": {},
   "outputs": [
    {
     "name": "stderr",
     "output_type": "stream",
     "text": [
      "INFO:nimare.correct:Using correction method implemented in Estimator: <class 'nimare.meta.cbma.ale.ALE'>.correct_fwe_montecarlo.\n"
     ]
    },
    {
     "data": {
      "application/vnd.jupyter.widget-view+json": {
       "model_id": "fc88625b4f8c46058d4417bf6795dc59",
       "version_major": 2,
       "version_minor": 0
      },
      "text/plain": [
       "HBox(children=(FloatProgress(value=0.0, max=10.0), HTML(value='')))"
      ]
     },
     "metadata": {},
     "output_type": "display_data"
    },
    {
     "name": "stdout",
     "output_type": "stream",
     "text": [
      "\n"
     ]
    },
    {
     "name": "stderr",
     "output_type": "stream",
     "text": [
      "/opt/anaconda3/lib/python3.7/site-packages/nimare/meta/cbma/ale.py:360: RuntimeWarning: divide by zero encountered in log\n",
      "  logp_cfwe_values = -np.log(p_cfwe_values)\n",
      "/opt/anaconda3/lib/python3.7/site-packages/nimare/meta/cbma/ale.py:372: RuntimeWarning: divide by zero encountered in log\n",
      "  logp_vfwe_values = -np.log(p_vfwe_values)\n"
     ]
    },
    {
     "data": {
      "text/plain": [
       "<nilearn.plotting.displays.OrthoSlicer at 0x7fd9e91c7fd0>"
      ]
     },
     "execution_count": 4,
     "metadata": {},
     "output_type": "execute_result"
    },
    {
     "data": {
      "image/png": "[encoded data removed]",
      "text/plain": [
       "<Figure size 525.6x187.2 with 5 Axes>"
      ]
     },
     "metadata": {},
     "output_type": "display_data"
    }
   ],
   "source": [
    "\n",
    "\n",
    "ale = nimare.meta.cbma.ALE()\n",
    "ale.fit(dset)\n",
    "corr = nimare.correct.FWECorrector(method='montecarlo', n_iters=10, n_cores=1)\n",
    "cres = corr.transform(ale.results)\n",
    "plot_stat_map(cres.get_map('logp_level-cluster_corr-FWE_method-montecarlo'),\n",
    "              cut_coords=[0, 0, -8], draw_cross=False, cmap='RdBu_r')"
   ]
  },
  {
   "cell_type": "code",
   "execution_count": 25,
   "metadata": {},
   "outputs": [],
   "source": [
    "from nilearn import image\n",
    "import numpy as np\n",
    "import nibabel as nib"
   ]
  },
  {
   "cell_type": "code",
   "execution_count": 26,
   "metadata": {},
   "outputs": [],
   "source": [
    "mask_file = 'mask.nii'\n",
    "\n",
    "mask = image.load_img(mask_file)"
   ]
  },
  {
   "cell_type": "code",
   "execution_count": 27,
   "metadata": {},
   "outputs": [],
   "source": [
    "img = nib.load(mask_file)\n",
    "\n",
    "a = np.array(img.dataobj)"
   ]
  },
  {
   "cell_type": "code",
   "execution_count": 29,
   "metadata": {},
   "outputs": [
    {
     "name": "stdout",
     "output_type": "stream",
     "text": [
      "[0.00392157 0.01960784 0.06666667 0.16862746 0.34901963 0.56862748\n",
      " 0.76470593 0.89019613 0.95294123 0.98039221 0.99215692 0.99607849\n",
      " 1.00000006 1.00000006 1.00000006 1.00000006 1.00000006 1.00000006\n",
      " 1.00000006 1.00000006 1.00000006 1.00000006 1.00000006 1.00000006\n",
      " 1.00000006 1.00000006 1.00000006 1.00000006 1.00000006 1.00000006\n",
      " 1.00000006 1.00000006 1.00000006 1.00000006 1.00000006 1.00000006\n",
      " 1.00000006 1.00000006 1.00000006 1.00000006 1.00000006 1.00000006\n",
      " 1.00000006 1.00000006 1.00000006 1.00000006 1.00000006 1.00000006\n",
      " 1.00000006 1.00000006 1.00000006 1.00000006 1.00000006 1.00000006\n",
      " 1.00000006 1.00000006 1.00000006 1.00000006 1.00000006 1.00000006\n",
      " 1.00000006 1.00000006 1.00000006 1.00000006 1.00000006 1.00000006\n",
      " 1.00000006 1.00000006 1.00000006 1.00000006 1.00000006 1.00000006\n",
      " 0.99607849 0.98039221 0.92941182 0.81176475 0.61176474 0.37647061\n",
      " 0.18431374 0.06666667 0.01960784 0.00392157 0.         0.\n",
      " 0.         0.         0.         0.         0.         0.\n",
      " 0.        ]\n"
     ]
    }
   ],
   "source": [
    "print(a[50][50])"
   ]
  },
  {
   "cell_type": "code",
   "execution_count": 30,
   "metadata": {},
   "outputs": [],
   "source": [
    "a[a>0]=1"
   ]
  },
  {
   "cell_type": "code",
   "execution_count": 31,
   "metadata": {},
   "outputs": [
    {
     "name": "stdout",
     "output_type": "stream",
     "text": [
      "[1. 1. 1. 1. 1. 1. 1. 1. 1. 1. 1. 1. 1. 1. 1. 1. 1. 1. 1. 1. 1. 1. 1. 1.\n",
      " 1. 1. 1. 1. 1. 1. 1. 1. 1. 1. 1. 1. 1. 1. 1. 1. 1. 1. 1. 1. 1. 1. 1. 1.\n",
      " 1. 1. 1. 1. 1. 1. 1. 1. 1. 1. 1. 1. 1. 1. 1. 1. 1. 1. 1. 1. 1. 1. 1. 1.\n",
      " 1. 1. 1. 1. 1. 1. 1. 1. 1. 1. 0. 0. 0. 0. 0. 0. 0. 0. 0.]\n"
     ]
    }
   ],
   "source": [
    "print(a[50][50])"
   ]
  },
  {
   "cell_type": "code",
   "execution_count": 12,
   "metadata": {},
   "outputs": [
    {
     "name": "stdout",
     "output_type": "stream",
     "text": [
      "[0. 0. 0. 0. 0. 0. 0. 0. 0. 0. 0. 0. 0. 0. 0. 0. 0. 0. 0. 0. 0. 0. 0. 0.\n",
      " 0. 0. 0. 0. 0. 0. 0. 0. 0. 0. 0. 0. 0. 0. 0. 0. 0. 0. 0. 0. 0. 0. 0. 0.\n",
      " 0. 0. 0. 0. 0. 0. 0. 0. 0. 0. 0. 0. 0. 0. 0. 0. 0. 0. 0. 0. 0. 0. 0. 0.\n",
      " 0. 0. 0. 0. 0. 0. 0. 0. 0. 0. 0. 0. 0. 0. 0. 0. 0. 0. 0.]\n"
     ]
    }
   ],
   "source": [
    "print(map_noise[50][50])"
   ]
  },
  {
   "cell_type": "code",
   "execution_count": 35,
   "metadata": {},
   "outputs": [
    {
     "name": "stdout",
     "output_type": "stream",
     "text": [
      "(0, 1, 2, 3, 4)\n"
     ]
    }
   ],
   "source": [
    "b = tuple(np.arange(5))\n",
    "print(b)"
   ]
  },
  {
   "cell_type": "code",
   "execution_count": 36,
   "metadata": {},
   "outputs": [
    {
     "data": {
      "text/plain": [
       "array([0, 1, 2, 3, 4])"
      ]
     },
     "execution_count": 36,
     "metadata": {},
     "output_type": "execute_result"
    }
   ],
   "source": [
    "np.arange(5)"
   ]
  },
  {
   "cell_type": "code",
   "execution_count": 37,
   "metadata": {},
   "outputs": [],
   "source": [
    "map = np.zeros((91,109,91))"
   ]
  },
  {
   "cell_type": "code",
   "execution_count": 45,
   "metadata": {},
   "outputs": [],
   "source": [
    "map[1:10,1:10,1:10] = 1"
   ]
  },
  {
   "cell_type": "code",
   "execution_count": 49,
   "metadata": {},
   "outputs": [
    {
     "data": {
      "text/plain": [
       "1.0"
      ]
     },
     "execution_count": 49,
     "metadata": {},
     "output_type": "execute_result"
    }
   ],
   "source": [
    "map[9,2,1]"
   ]
  },
  {
   "cell_type": "code",
   "execution_count": 53,
   "metadata": {},
   "outputs": [
    {
     "name": "stdout",
     "output_type": "stream",
     "text": [
      "(33, 33, 33)\n"
     ]
    }
   ],
   "source": [
    "a = [[[i for i in range(1,34)] for j in range (1,34)] for k in range(1,34)]\n",
    "b = np.array(a)\n",
    "print(b.shape)"
   ]
  },
  {
   "cell_type": "code",
   "execution_count": 57,
   "metadata": {},
   "outputs": [
    {
     "data": {
      "text/plain": [
       "array([ 1,  2,  3,  4,  5,  6,  7,  8,  9, 10, 11, 12, 13, 14, 15, 16, 17,\n",
       "       18, 19, 20, 21, 22, 23, 24, 25, 26, 27, 28, 29, 30, 31, 32, 33])"
      ]
     },
     "execution_count": 57,
     "metadata": {},
     "output_type": "execute_result"
    }
   ],
   "source": [
    "b[1][1]"
   ]
  },
  {
   "cell_type": "code",
   "execution_count": 61,
   "metadata": {},
   "outputs": [],
   "source": [
    "from scipy.stats import multivariate_normal"
   ]
  },
  {
   "cell_type": "code",
   "execution_count": 68,
   "metadata": {},
   "outputs": [
    {
     "name": "stdout",
     "output_type": "stream",
     "text": [
      "5.823896068892607e-162\n"
     ]
    }
   ],
   "source": [
    "print(y)"
   ]
  },
  {
   "cell_type": "code",
   "execution_count": 71,
   "metadata": {},
   "outputs": [
    {
     "name": "stdout",
     "output_type": "stream",
     "text": [
      "[ 1  2  3  4  5  6  7  8  9 10 11 12 13 14 15 16 17 18 19 20 21 22 23 24\n",
      " 25 26 27 28 29 30 31 32 33]\n"
     ]
    }
   ],
   "source": [
    "print(np.arange(1,34))"
   ]
  },
  {
   "cell_type": "code",
   "execution_count": 82,
   "metadata": {},
   "outputs": [],
   "source": [
    "import itertools\n",
    "region_width = 33"
   ]
  },
  {
   "cell_type": "code",
   "execution_count": 104,
   "metadata": {},
   "outputs": [
    {
     "name": "stdout",
     "output_type": "stream",
     "text": [
      "[1 2 2]\n"
     ]
    }
   ],
   "source": [
    "region = []\n",
    "for element in itertools.product(np.arange(1,region_width+1), np.arange(1,region_width+1), np.arange(1,region_width+1)):\n",
    "    region.append(list(element))\n",
    "region_coord = np.array(region)\n",
    "\n",
    "print(region_coord[34])"
   ]
  },
  {
   "cell_type": "code",
   "execution_count": 106,
   "metadata": {},
   "outputs": [
    {
     "ename": "ValueError",
     "evalue": "cannot reshape array of size 107811 into shape (33,33,33)",
     "output_type": "error",
     "traceback": [
      "\u001b[0;31m---------------------------------------------------------------------------\u001b[0m",
      "\u001b[0;31mValueError\u001b[0m                                Traceback (most recent call last)",
      "\u001b[0;32m<ipython-input-106-7656c110d3d0>\u001b[0m in \u001b[0;36m<module>\u001b[0;34m\u001b[0m\n\u001b[0;32m----> 1\u001b[0;31m \u001b[0mprint\u001b[0m\u001b[0;34m(\u001b[0m\u001b[0mregion_coord\u001b[0m\u001b[0;34m.\u001b[0m\u001b[0mreshape\u001b[0m\u001b[0;34m(\u001b[0m\u001b[0;36m33\u001b[0m\u001b[0;34m,\u001b[0m\u001b[0;36m33\u001b[0m\u001b[0;34m,\u001b[0m\u001b[0;36m33\u001b[0m\u001b[0;34m)\u001b[0m\u001b[0;34m)\u001b[0m\u001b[0;34m\u001b[0m\u001b[0;34m\u001b[0m\u001b[0m\n\u001b[0m",
      "\u001b[0;31mValueError\u001b[0m: cannot reshape array of size 107811 into shape (33,33,33)"
     ]
    }
   ],
   "source": [
    "print(region_coord.reshape(33,33,33))"
   ]
  },
  {
   "cell_type": "code",
   "execution_count": 87,
   "metadata": {},
   "outputs": [],
   "source": [
    "mean = np.array([17,17,17])\n",
    "sigma = 1\n",
    "cov = np.diag(np.array([sigma]*3))\n",
    "\n",
    "y = multivariate_normal.pdf(region_coord, mean, cov);"
   ]
  },
  {
   "cell_type": "code",
   "execution_count": 90,
   "metadata": {},
   "outputs": [
    {
     "name": "stdout",
     "output_type": "stream",
     "text": [
      "4.539662629160689e-143\n"
     ]
    }
   ],
   "source": [
    "print(y[100])"
   ]
  },
  {
   "cell_type": "code",
   "execution_count": 97,
   "metadata": {},
   "outputs": [],
   "source": [
    "map = np.zeros((91,109,91))\n",
    "center = np.array([63,67,50])"
   ]
  },
  {
   "cell_type": "code",
   "execution_count": 100,
   "metadata": {},
   "outputs": [],
   "source": [
    "map[center[0]-16:center[0]+16, center[1]-16:center[1]+16, center[2]-16:center[2]+16] = 1"
   ]
  },
  {
   "cell_type": "code",
   "execution_count": 101,
   "metadata": {},
   "outputs": [
    {
     "data": {
      "text/plain": [
       "1.0"
      ]
     },
     "execution_count": 101,
     "metadata": {},
     "output_type": "execute_result"
    }
   ],
   "source": [
    "map[62,70,52]"
   ]
  },
  {
   "cell_type": "code",
   "execution_count": 1,
   "metadata": {},
   "outputs": [],
   "source": [
    "nx, ny = (3, 2)"
   ]
  },
  {
   "cell_type": "code",
   "execution_count": 4,
   "metadata": {},
   "outputs": [],
   "source": [
    "x = np.linspace(0, 1, nx)"
   ]
  },
  {
   "cell_type": "code",
   "execution_count": 5,
   "metadata": {},
   "outputs": [
    {
     "data": {
      "text/plain": [
       "array([0. , 0.5, 1. ])"
      ]
     },
     "execution_count": 5,
     "metadata": {},
     "output_type": "execute_result"
    }
   ],
   "source": [
    "x"
   ]
  },
  {
   "cell_type": "code",
   "execution_count": 6,
   "metadata": {},
   "outputs": [
    {
     "data": {
      "text/plain": [
       "array([ 1,  2,  3,  4,  5,  6,  7,  8,  9, 10, 11, 12, 13, 14, 15, 16, 17,\n",
       "       18, 19, 20, 21, 22, 23, 24, 25, 26, 27, 28, 29, 30, 31, 32, 33])"
      ]
     },
     "execution_count": 6,
     "metadata": {},
     "output_type": "execute_result"
    }
   ],
   "source": [
    "a = np.arange(1,34)\n",
    "a"
   ]
  },
  {
   "cell_type": "code",
   "execution_count": 7,
   "metadata": {},
   "outputs": [],
   "source": [
    "b = np.meshgrid(a,a,a)"
   ]
  },
  {
   "cell_type": "code",
   "execution_count": 8,
   "metadata": {},
   "outputs": [
    {
     "data": {
      "text/plain": [
       "[array([[[ 1,  1,  1, ...,  1,  1,  1],\n",
       "         [ 2,  2,  2, ...,  2,  2,  2],\n",
       "         [ 3,  3,  3, ...,  3,  3,  3],\n",
       "         ...,\n",
       "         [31, 31, 31, ..., 31, 31, 31],\n",
       "         [32, 32, 32, ..., 32, 32, 32],\n",
       "         [33, 33, 33, ..., 33, 33, 33]],\n",
       " \n",
       "        [[ 1,  1,  1, ...,  1,  1,  1],\n",
       "         [ 2,  2,  2, ...,  2,  2,  2],\n",
       "         [ 3,  3,  3, ...,  3,  3,  3],\n",
       "         ...,\n",
       "         [31, 31, 31, ..., 31, 31, 31],\n",
       "         [32, 32, 32, ..., 32, 32, 32],\n",
       "         [33, 33, 33, ..., 33, 33, 33]],\n",
       " \n",
       "        [[ 1,  1,  1, ...,  1,  1,  1],\n",
       "         [ 2,  2,  2, ...,  2,  2,  2],\n",
       "         [ 3,  3,  3, ...,  3,  3,  3],\n",
       "         ...,\n",
       "         [31, 31, 31, ..., 31, 31, 31],\n",
       "         [32, 32, 32, ..., 32, 32, 32],\n",
       "         [33, 33, 33, ..., 33, 33, 33]],\n",
       " \n",
       "        ...,\n",
       " \n",
       "        [[ 1,  1,  1, ...,  1,  1,  1],\n",
       "         [ 2,  2,  2, ...,  2,  2,  2],\n",
       "         [ 3,  3,  3, ...,  3,  3,  3],\n",
       "         ...,\n",
       "         [31, 31, 31, ..., 31, 31, 31],\n",
       "         [32, 32, 32, ..., 32, 32, 32],\n",
       "         [33, 33, 33, ..., 33, 33, 33]],\n",
       " \n",
       "        [[ 1,  1,  1, ...,  1,  1,  1],\n",
       "         [ 2,  2,  2, ...,  2,  2,  2],\n",
       "         [ 3,  3,  3, ...,  3,  3,  3],\n",
       "         ...,\n",
       "         [31, 31, 31, ..., 31, 31, 31],\n",
       "         [32, 32, 32, ..., 32, 32, 32],\n",
       "         [33, 33, 33, ..., 33, 33, 33]],\n",
       " \n",
       "        [[ 1,  1,  1, ...,  1,  1,  1],\n",
       "         [ 2,  2,  2, ...,  2,  2,  2],\n",
       "         [ 3,  3,  3, ...,  3,  3,  3],\n",
       "         ...,\n",
       "         [31, 31, 31, ..., 31, 31, 31],\n",
       "         [32, 32, 32, ..., 32, 32, 32],\n",
       "         [33, 33, 33, ..., 33, 33, 33]]]),\n",
       " array([[[ 1,  1,  1, ...,  1,  1,  1],\n",
       "         [ 1,  1,  1, ...,  1,  1,  1],\n",
       "         [ 1,  1,  1, ...,  1,  1,  1],\n",
       "         ...,\n",
       "         [ 1,  1,  1, ...,  1,  1,  1],\n",
       "         [ 1,  1,  1, ...,  1,  1,  1],\n",
       "         [ 1,  1,  1, ...,  1,  1,  1]],\n",
       " \n",
       "        [[ 2,  2,  2, ...,  2,  2,  2],\n",
       "         [ 2,  2,  2, ...,  2,  2,  2],\n",
       "         [ 2,  2,  2, ...,  2,  2,  2],\n",
       "         ...,\n",
       "         [ 2,  2,  2, ...,  2,  2,  2],\n",
       "         [ 2,  2,  2, ...,  2,  2,  2],\n",
       "         [ 2,  2,  2, ...,  2,  2,  2]],\n",
       " \n",
       "        [[ 3,  3,  3, ...,  3,  3,  3],\n",
       "         [ 3,  3,  3, ...,  3,  3,  3],\n",
       "         [ 3,  3,  3, ...,  3,  3,  3],\n",
       "         ...,\n",
       "         [ 3,  3,  3, ...,  3,  3,  3],\n",
       "         [ 3,  3,  3, ...,  3,  3,  3],\n",
       "         [ 3,  3,  3, ...,  3,  3,  3]],\n",
       " \n",
       "        ...,\n",
       " \n",
       "        [[31, 31, 31, ..., 31, 31, 31],\n",
       "         [31, 31, 31, ..., 31, 31, 31],\n",
       "         [31, 31, 31, ..., 31, 31, 31],\n",
       "         ...,\n",
       "         [31, 31, 31, ..., 31, 31, 31],\n",
       "         [31, 31, 31, ..., 31, 31, 31],\n",
       "         [31, 31, 31, ..., 31, 31, 31]],\n",
       " \n",
       "        [[32, 32, 32, ..., 32, 32, 32],\n",
       "         [32, 32, 32, ..., 32, 32, 32],\n",
       "         [32, 32, 32, ..., 32, 32, 32],\n",
       "         ...,\n",
       "         [32, 32, 32, ..., 32, 32, 32],\n",
       "         [32, 32, 32, ..., 32, 32, 32],\n",
       "         [32, 32, 32, ..., 32, 32, 32]],\n",
       " \n",
       "        [[33, 33, 33, ..., 33, 33, 33],\n",
       "         [33, 33, 33, ..., 33, 33, 33],\n",
       "         [33, 33, 33, ..., 33, 33, 33],\n",
       "         ...,\n",
       "         [33, 33, 33, ..., 33, 33, 33],\n",
       "         [33, 33, 33, ..., 33, 33, 33],\n",
       "         [33, 33, 33, ..., 33, 33, 33]]]),\n",
       " array([[[ 1,  2,  3, ..., 31, 32, 33],\n",
       "         [ 1,  2,  3, ..., 31, 32, 33],\n",
       "         [ 1,  2,  3, ..., 31, 32, 33],\n",
       "         ...,\n",
       "         [ 1,  2,  3, ..., 31, 32, 33],\n",
       "         [ 1,  2,  3, ..., 31, 32, 33],\n",
       "         [ 1,  2,  3, ..., 31, 32, 33]],\n",
       " \n",
       "        [[ 1,  2,  3, ..., 31, 32, 33],\n",
       "         [ 1,  2,  3, ..., 31, 32, 33],\n",
       "         [ 1,  2,  3, ..., 31, 32, 33],\n",
       "         ...,\n",
       "         [ 1,  2,  3, ..., 31, 32, 33],\n",
       "         [ 1,  2,  3, ..., 31, 32, 33],\n",
       "         [ 1,  2,  3, ..., 31, 32, 33]],\n",
       " \n",
       "        [[ 1,  2,  3, ..., 31, 32, 33],\n",
       "         [ 1,  2,  3, ..., 31, 32, 33],\n",
       "         [ 1,  2,  3, ..., 31, 32, 33],\n",
       "         ...,\n",
       "         [ 1,  2,  3, ..., 31, 32, 33],\n",
       "         [ 1,  2,  3, ..., 31, 32, 33],\n",
       "         [ 1,  2,  3, ..., 31, 32, 33]],\n",
       " \n",
       "        ...,\n",
       " \n",
       "        [[ 1,  2,  3, ..., 31, 32, 33],\n",
       "         [ 1,  2,  3, ..., 31, 32, 33],\n",
       "         [ 1,  2,  3, ..., 31, 32, 33],\n",
       "         ...,\n",
       "         [ 1,  2,  3, ..., 31, 32, 33],\n",
       "         [ 1,  2,  3, ..., 31, 32, 33],\n",
       "         [ 1,  2,  3, ..., 31, 32, 33]],\n",
       " \n",
       "        [[ 1,  2,  3, ..., 31, 32, 33],\n",
       "         [ 1,  2,  3, ..., 31, 32, 33],\n",
       "         [ 1,  2,  3, ..., 31, 32, 33],\n",
       "         ...,\n",
       "         [ 1,  2,  3, ..., 31, 32, 33],\n",
       "         [ 1,  2,  3, ..., 31, 32, 33],\n",
       "         [ 1,  2,  3, ..., 31, 32, 33]],\n",
       " \n",
       "        [[ 1,  2,  3, ..., 31, 32, 33],\n",
       "         [ 1,  2,  3, ..., 31, 32, 33],\n",
       "         [ 1,  2,  3, ..., 31, 32, 33],\n",
       "         ...,\n",
       "         [ 1,  2,  3, ..., 31, 32, 33],\n",
       "         [ 1,  2,  3, ..., 31, 32, 33],\n",
       "         [ 1,  2,  3, ..., 31, 32, 33]]])]"
      ]
     },
     "execution_count": 8,
     "metadata": {},
     "output_type": "execute_result"
    }
   ],
   "source": [
    "b"
   ]
  },
  {
   "cell_type": "code",
   "execution_count": 9,
   "metadata": {},
   "outputs": [],
   "source": [
    "map = np.zeros((91,109,91))"
   ]
  },
  {
   "cell_type": "code",
   "execution_count": 11,
   "metadata": {},
   "outputs": [
    {
     "name": "stdout",
     "output_type": "stream",
     "text": [
      "(32, 32, 32)\n"
     ]
    }
   ],
   "source": [
    "print(map[63-16:63+16, 67-16:67+16, 50-16:50+16].shape)"
   ]
  },
  {
   "cell_type": "code",
   "execution_count": 20,
   "metadata": {},
   "outputs": [],
   "source": [
    "map[1:3,1:3,1:3] = a"
   ]
  },
  {
   "cell_type": "code",
   "execution_count": 18,
   "metadata": {},
   "outputs": [
    {
     "name": "stdout",
     "output_type": "stream",
     "text": [
      "[[[0 1]\n",
      "  [2 3]]\n",
      "\n",
      " [[4 5]\n",
      "  [6 7]]]\n"
     ]
    }
   ],
   "source": [
    "a = np.arange(8).reshape((2,2,2))\n",
    "print(a)"
   ]
  },
  {
   "cell_type": "code",
   "execution_count": 21,
   "metadata": {},
   "outputs": [
    {
     "name": "stdout",
     "output_type": "stream",
     "text": [
      "[0. 0. 0. 0. 0. 0. 0. 0.]\n"
     ]
    }
   ],
   "source": [
    "print(np.zeros(8))"
   ]
  },
  {
   "cell_type": "code",
   "execution_count": 45,
   "metadata": {},
   "outputs": [],
   "source": [
    "import itertools\n",
    "\n",
    "xx, yy, zz = 91, 109, 91\n",
    "\n",
    "grid = []\n",
    "for element in itertools.product(np.arange(1,xx+1), np.arange(1,yy+1), np.arange(1,zz+1)):\n",
    "    grid.append(element)\n",
    "grid_coord = np.array(grid)"
   ]
  },
  {
   "cell_type": "code",
   "execution_count": 47,
   "metadata": {},
   "outputs": [
    {
     "data": {
      "text/plain": [
       "[(1, 1, 1),\n",
       " (1, 1, 2),\n",
       " (1, 1, 3),\n",
       " (1, 1, 4),\n",
       " (1, 1, 5),\n",
       " (1, 1, 6),\n",
       " (1, 1, 7),\n",
       " (1, 1, 8),\n",
       " (1, 1, 9),\n",
       " (1, 1, 10),\n",
       " (1, 1, 11),\n",
       " (1, 1, 12),\n",
       " (1, 1, 13),\n",
       " (1, 1, 14),\n",
       " (1, 1, 15),\n",
       " (1, 1, 16),\n",
       " (1, 1, 17),\n",
       " (1, 1, 18),\n",
       " (1, 1, 19),\n",
       " (1, 1, 20),\n",
       " (1, 1, 21),\n",
       " (1, 1, 22),\n",
       " (1, 1, 23),\n",
       " (1, 1, 24),\n",
       " (1, 1, 25),\n",
       " (1, 1, 26),\n",
       " (1, 1, 27),\n",
       " (1, 1, 28),\n",
       " (1, 1, 29),\n",
       " (1, 1, 30),\n",
       " (1, 1, 31),\n",
       " (1, 1, 32),\n",
       " (1, 1, 33),\n",
       " (1, 1, 34),\n",
       " (1, 1, 35),\n",
       " (1, 1, 36),\n",
       " (1, 1, 37),\n",
       " (1, 1, 38),\n",
       " (1, 1, 39),\n",
       " (1, 1, 40),\n",
       " (1, 1, 41),\n",
       " (1, 1, 42),\n",
       " (1, 1, 43),\n",
       " (1, 1, 44),\n",
       " (1, 1, 45),\n",
       " (1, 1, 46),\n",
       " (1, 1, 47),\n",
       " (1, 1, 48),\n",
       " (1, 1, 49),\n",
       " (1, 1, 50),\n",
       " (1, 1, 51),\n",
       " (1, 1, 52),\n",
       " (1, 1, 53),\n",
       " (1, 1, 54),\n",
       " (1, 1, 55),\n",
       " (1, 1, 56),\n",
       " (1, 1, 57),\n",
       " (1, 1, 58),\n",
       " (1, 1, 59),\n",
       " (1, 1, 60),\n",
       " (1, 1, 61),\n",
       " (1, 1, 62),\n",
       " (1, 1, 63),\n",
       " (1, 1, 64),\n",
       " (1, 1, 65),\n",
       " (1, 1, 66),\n",
       " (1, 1, 67),\n",
       " (1, 1, 68),\n",
       " (1, 1, 69),\n",
       " (1, 1, 70),\n",
       " (1, 1, 71),\n",
       " (1, 1, 72),\n",
       " (1, 1, 73),\n",
       " (1, 1, 74),\n",
       " (1, 1, 75),\n",
       " (1, 1, 76),\n",
       " (1, 1, 77),\n",
       " (1, 1, 78),\n",
       " (1, 1, 79),\n",
       " (1, 1, 80),\n",
       " (1, 1, 81),\n",
       " (1, 1, 82),\n",
       " (1, 1, 83),\n",
       " (1, 1, 84),\n",
       " (1, 1, 85),\n",
       " (1, 1, 86),\n",
       " (1, 1, 87),\n",
       " (1, 1, 88),\n",
       " (1, 1, 89),\n",
       " (1, 1, 90),\n",
       " (1, 1, 91),\n",
       " (1, 2, 1),\n",
       " (1, 2, 2),\n",
       " (1, 2, 3),\n",
       " (1, 2, 4),\n",
       " (1, 2, 5),\n",
       " (1, 2, 6),\n",
       " (1, 2, 7),\n",
       " (1, 2, 8),\n",
       " (1, 2, 9),\n",
       " (1, 2, 10),\n",
       " (1, 2, 11),\n",
       " (1, 2, 12),\n",
       " (1, 2, 13),\n",
       " (1, 2, 14),\n",
       " (1, 2, 15),\n",
       " (1, 2, 16),\n",
       " (1, 2, 17),\n",
       " (1, 2, 18),\n",
       " (1, 2, 19),\n",
       " (1, 2, 20),\n",
       " (1, 2, 21),\n",
       " (1, 2, 22),\n",
       " (1, 2, 23),\n",
       " (1, 2, 24),\n",
       " (1, 2, 25),\n",
       " (1, 2, 26),\n",
       " (1, 2, 27),\n",
       " (1, 2, 28),\n",
       " (1, 2, 29),\n",
       " (1, 2, 30),\n",
       " (1, 2, 31),\n",
       " (1, 2, 32),\n",
       " (1, 2, 33),\n",
       " (1, 2, 34),\n",
       " (1, 2, 35),\n",
       " (1, 2, 36),\n",
       " (1, 2, 37),\n",
       " (1, 2, 38),\n",
       " (1, 2, 39),\n",
       " (1, 2, 40),\n",
       " (1, 2, 41),\n",
       " (1, 2, 42),\n",
       " (1, 2, 43),\n",
       " (1, 2, 44),\n",
       " (1, 2, 45),\n",
       " (1, 2, 46),\n",
       " (1, 2, 47),\n",
       " (1, 2, 48),\n",
       " (1, 2, 49),\n",
       " (1, 2, 50),\n",
       " (1, 2, 51),\n",
       " (1, 2, 52),\n",
       " (1, 2, 53),\n",
       " (1, 2, 54),\n",
       " (1, 2, 55),\n",
       " (1, 2, 56),\n",
       " (1, 2, 57),\n",
       " (1, 2, 58),\n",
       " (1, 2, 59),\n",
       " (1, 2, 60),\n",
       " (1, 2, 61),\n",
       " (1, 2, 62),\n",
       " (1, 2, 63),\n",
       " (1, 2, 64),\n",
       " (1, 2, 65),\n",
       " (1, 2, 66),\n",
       " (1, 2, 67),\n",
       " (1, 2, 68),\n",
       " (1, 2, 69),\n",
       " (1, 2, 70),\n",
       " (1, 2, 71),\n",
       " (1, 2, 72),\n",
       " (1, 2, 73),\n",
       " (1, 2, 74),\n",
       " (1, 2, 75),\n",
       " (1, 2, 76),\n",
       " (1, 2, 77),\n",
       " (1, 2, 78),\n",
       " (1, 2, 79),\n",
       " (1, 2, 80),\n",
       " (1, 2, 81),\n",
       " (1, 2, 82),\n",
       " (1, 2, 83),\n",
       " (1, 2, 84),\n",
       " (1, 2, 85),\n",
       " (1, 2, 86),\n",
       " (1, 2, 87),\n",
       " (1, 2, 88),\n",
       " (1, 2, 89),\n",
       " (1, 2, 90),\n",
       " (1, 2, 91),\n",
       " (1, 3, 1),\n",
       " (1, 3, 2),\n",
       " (1, 3, 3),\n",
       " (1, 3, 4),\n",
       " (1, 3, 5),\n",
       " (1, 3, 6),\n",
       " (1, 3, 7),\n",
       " (1, 3, 8),\n",
       " (1, 3, 9),\n",
       " (1, 3, 10),\n",
       " (1, 3, 11),\n",
       " (1, 3, 12),\n",
       " (1, 3, 13),\n",
       " (1, 3, 14),\n",
       " (1, 3, 15),\n",
       " (1, 3, 16),\n",
       " (1, 3, 17),\n",
       " (1, 3, 18),\n",
       " (1, 3, 19),\n",
       " (1, 3, 20),\n",
       " (1, 3, 21),\n",
       " (1, 3, 22),\n",
       " (1, 3, 23),\n",
       " (1, 3, 24),\n",
       " (1, 3, 25),\n",
       " (1, 3, 26),\n",
       " (1, 3, 27),\n",
       " (1, 3, 28),\n",
       " (1, 3, 29),\n",
       " (1, 3, 30),\n",
       " (1, 3, 31),\n",
       " (1, 3, 32),\n",
       " (1, 3, 33),\n",
       " (1, 3, 34),\n",
       " (1, 3, 35),\n",
       " (1, 3, 36),\n",
       " (1, 3, 37),\n",
       " (1, 3, 38),\n",
       " (1, 3, 39),\n",
       " (1, 3, 40),\n",
       " (1, 3, 41),\n",
       " (1, 3, 42),\n",
       " (1, 3, 43),\n",
       " (1, 3, 44),\n",
       " (1, 3, 45),\n",
       " (1, 3, 46),\n",
       " (1, 3, 47),\n",
       " (1, 3, 48),\n",
       " (1, 3, 49),\n",
       " (1, 3, 50),\n",
       " (1, 3, 51),\n",
       " (1, 3, 52),\n",
       " (1, 3, 53),\n",
       " (1, 3, 54),\n",
       " (1, 3, 55),\n",
       " (1, 3, 56),\n",
       " (1, 3, 57),\n",
       " (1, 3, 58),\n",
       " (1, 3, 59),\n",
       " (1, 3, 60),\n",
       " (1, 3, 61),\n",
       " (1, 3, 62),\n",
       " (1, 3, 63),\n",
       " (1, 3, 64),\n",
       " (1, 3, 65),\n",
       " (1, 3, 66),\n",
       " (1, 3, 67),\n",
       " (1, 3, 68),\n",
       " (1, 3, 69),\n",
       " (1, 3, 70),\n",
       " (1, 3, 71),\n",
       " (1, 3, 72),\n",
       " (1, 3, 73),\n",
       " (1, 3, 74),\n",
       " (1, 3, 75),\n",
       " (1, 3, 76),\n",
       " (1, 3, 77),\n",
       " (1, 3, 78),\n",
       " (1, 3, 79),\n",
       " (1, 3, 80),\n",
       " (1, 3, 81),\n",
       " (1, 3, 82),\n",
       " (1, 3, 83),\n",
       " (1, 3, 84),\n",
       " (1, 3, 85),\n",
       " (1, 3, 86),\n",
       " (1, 3, 87),\n",
       " (1, 3, 88),\n",
       " (1, 3, 89),\n",
       " (1, 3, 90),\n",
       " (1, 3, 91),\n",
       " (1, 4, 1),\n",
       " (1, 4, 2),\n",
       " (1, 4, 3),\n",
       " (1, 4, 4),\n",
       " (1, 4, 5),\n",
       " (1, 4, 6),\n",
       " (1, 4, 7),\n",
       " (1, 4, 8),\n",
       " (1, 4, 9),\n",
       " (1, 4, 10),\n",
       " (1, 4, 11),\n",
       " (1, 4, 12),\n",
       " (1, 4, 13),\n",
       " (1, 4, 14),\n",
       " (1, 4, 15),\n",
       " (1, 4, 16),\n",
       " (1, 4, 17),\n",
       " (1, 4, 18),\n",
       " (1, 4, 19),\n",
       " (1, 4, 20),\n",
       " (1, 4, 21),\n",
       " (1, 4, 22),\n",
       " (1, 4, 23),\n",
       " (1, 4, 24),\n",
       " (1, 4, 25),\n",
       " (1, 4, 26),\n",
       " (1, 4, 27),\n",
       " (1, 4, 28),\n",
       " (1, 4, 29),\n",
       " (1, 4, 30),\n",
       " (1, 4, 31),\n",
       " (1, 4, 32),\n",
       " (1, 4, 33),\n",
       " (1, 4, 34),\n",
       " (1, 4, 35),\n",
       " (1, 4, 36),\n",
       " (1, 4, 37),\n",
       " (1, 4, 38),\n",
       " (1, 4, 39),\n",
       " (1, 4, 40),\n",
       " (1, 4, 41),\n",
       " (1, 4, 42),\n",
       " (1, 4, 43),\n",
       " (1, 4, 44),\n",
       " (1, 4, 45),\n",
       " (1, 4, 46),\n",
       " (1, 4, 47),\n",
       " (1, 4, 48),\n",
       " (1, 4, 49),\n",
       " (1, 4, 50),\n",
       " (1, 4, 51),\n",
       " (1, 4, 52),\n",
       " (1, 4, 53),\n",
       " (1, 4, 54),\n",
       " (1, 4, 55),\n",
       " (1, 4, 56),\n",
       " (1, 4, 57),\n",
       " (1, 4, 58),\n",
       " (1, 4, 59),\n",
       " (1, 4, 60),\n",
       " (1, 4, 61),\n",
       " (1, 4, 62),\n",
       " (1, 4, 63),\n",
       " (1, 4, 64),\n",
       " (1, 4, 65),\n",
       " (1, 4, 66),\n",
       " (1, 4, 67),\n",
       " (1, 4, 68),\n",
       " (1, 4, 69),\n",
       " (1, 4, 70),\n",
       " (1, 4, 71),\n",
       " (1, 4, 72),\n",
       " (1, 4, 73),\n",
       " (1, 4, 74),\n",
       " (1, 4, 75),\n",
       " (1, 4, 76),\n",
       " (1, 4, 77),\n",
       " (1, 4, 78),\n",
       " (1, 4, 79),\n",
       " (1, 4, 80),\n",
       " (1, 4, 81),\n",
       " (1, 4, 82),\n",
       " (1, 4, 83),\n",
       " (1, 4, 84),\n",
       " (1, 4, 85),\n",
       " (1, 4, 86),\n",
       " (1, 4, 87),\n",
       " (1, 4, 88),\n",
       " (1, 4, 89),\n",
       " (1, 4, 90),\n",
       " (1, 4, 91),\n",
       " (1, 5, 1),\n",
       " (1, 5, 2),\n",
       " (1, 5, 3),\n",
       " (1, 5, 4),\n",
       " (1, 5, 5),\n",
       " (1, 5, 6),\n",
       " (1, 5, 7),\n",
       " (1, 5, 8),\n",
       " (1, 5, 9),\n",
       " (1, 5, 10),\n",
       " (1, 5, 11),\n",
       " (1, 5, 12),\n",
       " (1, 5, 13),\n",
       " (1, 5, 14),\n",
       " (1, 5, 15),\n",
       " (1, 5, 16),\n",
       " (1, 5, 17),\n",
       " (1, 5, 18),\n",
       " (1, 5, 19),\n",
       " (1, 5, 20),\n",
       " (1, 5, 21),\n",
       " (1, 5, 22),\n",
       " (1, 5, 23),\n",
       " (1, 5, 24),\n",
       " (1, 5, 25),\n",
       " (1, 5, 26),\n",
       " (1, 5, 27),\n",
       " (1, 5, 28),\n",
       " (1, 5, 29),\n",
       " (1, 5, 30),\n",
       " (1, 5, 31),\n",
       " (1, 5, 32),\n",
       " (1, 5, 33),\n",
       " (1, 5, 34),\n",
       " (1, 5, 35),\n",
       " (1, 5, 36),\n",
       " (1, 5, 37),\n",
       " (1, 5, 38),\n",
       " (1, 5, 39),\n",
       " (1, 5, 40),\n",
       " (1, 5, 41),\n",
       " (1, 5, 42),\n",
       " (1, 5, 43),\n",
       " (1, 5, 44),\n",
       " (1, 5, 45),\n",
       " (1, 5, 46),\n",
       " (1, 5, 47),\n",
       " (1, 5, 48),\n",
       " (1, 5, 49),\n",
       " (1, 5, 50),\n",
       " (1, 5, 51),\n",
       " (1, 5, 52),\n",
       " (1, 5, 53),\n",
       " (1, 5, 54),\n",
       " (1, 5, 55),\n",
       " (1, 5, 56),\n",
       " (1, 5, 57),\n",
       " (1, 5, 58),\n",
       " (1, 5, 59),\n",
       " (1, 5, 60),\n",
       " (1, 5, 61),\n",
       " (1, 5, 62),\n",
       " (1, 5, 63),\n",
       " (1, 5, 64),\n",
       " (1, 5, 65),\n",
       " (1, 5, 66),\n",
       " (1, 5, 67),\n",
       " (1, 5, 68),\n",
       " (1, 5, 69),\n",
       " (1, 5, 70),\n",
       " (1, 5, 71),\n",
       " (1, 5, 72),\n",
       " (1, 5, 73),\n",
       " (1, 5, 74),\n",
       " (1, 5, 75),\n",
       " (1, 5, 76),\n",
       " (1, 5, 77),\n",
       " (1, 5, 78),\n",
       " (1, 5, 79),\n",
       " (1, 5, 80),\n",
       " (1, 5, 81),\n",
       " (1, 5, 82),\n",
       " (1, 5, 83),\n",
       " (1, 5, 84),\n",
       " (1, 5, 85),\n",
       " (1, 5, 86),\n",
       " (1, 5, 87),\n",
       " (1, 5, 88),\n",
       " (1, 5, 89),\n",
       " (1, 5, 90),\n",
       " (1, 5, 91),\n",
       " (1, 6, 1),\n",
       " (1, 6, 2),\n",
       " (1, 6, 3),\n",
       " (1, 6, 4),\n",
       " (1, 6, 5),\n",
       " (1, 6, 6),\n",
       " (1, 6, 7),\n",
       " (1, 6, 8),\n",
       " (1, 6, 9),\n",
       " (1, 6, 10),\n",
       " (1, 6, 11),\n",
       " (1, 6, 12),\n",
       " (1, 6, 13),\n",
       " (1, 6, 14),\n",
       " (1, 6, 15),\n",
       " (1, 6, 16),\n",
       " (1, 6, 17),\n",
       " (1, 6, 18),\n",
       " (1, 6, 19),\n",
       " (1, 6, 20),\n",
       " (1, 6, 21),\n",
       " (1, 6, 22),\n",
       " (1, 6, 23),\n",
       " (1, 6, 24),\n",
       " (1, 6, 25),\n",
       " (1, 6, 26),\n",
       " (1, 6, 27),\n",
       " (1, 6, 28),\n",
       " (1, 6, 29),\n",
       " (1, 6, 30),\n",
       " (1, 6, 31),\n",
       " (1, 6, 32),\n",
       " (1, 6, 33),\n",
       " (1, 6, 34),\n",
       " (1, 6, 35),\n",
       " (1, 6, 36),\n",
       " (1, 6, 37),\n",
       " (1, 6, 38),\n",
       " (1, 6, 39),\n",
       " (1, 6, 40),\n",
       " (1, 6, 41),\n",
       " (1, 6, 42),\n",
       " (1, 6, 43),\n",
       " (1, 6, 44),\n",
       " (1, 6, 45),\n",
       " (1, 6, 46),\n",
       " (1, 6, 47),\n",
       " (1, 6, 48),\n",
       " (1, 6, 49),\n",
       " (1, 6, 50),\n",
       " (1, 6, 51),\n",
       " (1, 6, 52),\n",
       " (1, 6, 53),\n",
       " (1, 6, 54),\n",
       " (1, 6, 55),\n",
       " (1, 6, 56),\n",
       " (1, 6, 57),\n",
       " (1, 6, 58),\n",
       " (1, 6, 59),\n",
       " (1, 6, 60),\n",
       " (1, 6, 61),\n",
       " (1, 6, 62),\n",
       " (1, 6, 63),\n",
       " (1, 6, 64),\n",
       " (1, 6, 65),\n",
       " (1, 6, 66),\n",
       " (1, 6, 67),\n",
       " (1, 6, 68),\n",
       " (1, 6, 69),\n",
       " (1, 6, 70),\n",
       " (1, 6, 71),\n",
       " (1, 6, 72),\n",
       " (1, 6, 73),\n",
       " (1, 6, 74),\n",
       " (1, 6, 75),\n",
       " (1, 6, 76),\n",
       " (1, 6, 77),\n",
       " (1, 6, 78),\n",
       " (1, 6, 79),\n",
       " (1, 6, 80),\n",
       " (1, 6, 81),\n",
       " (1, 6, 82),\n",
       " (1, 6, 83),\n",
       " (1, 6, 84),\n",
       " (1, 6, 85),\n",
       " (1, 6, 86),\n",
       " (1, 6, 87),\n",
       " (1, 6, 88),\n",
       " (1, 6, 89),\n",
       " (1, 6, 90),\n",
       " (1, 6, 91),\n",
       " (1, 7, 1),\n",
       " (1, 7, 2),\n",
       " (1, 7, 3),\n",
       " (1, 7, 4),\n",
       " (1, 7, 5),\n",
       " (1, 7, 6),\n",
       " (1, 7, 7),\n",
       " (1, 7, 8),\n",
       " (1, 7, 9),\n",
       " (1, 7, 10),\n",
       " (1, 7, 11),\n",
       " (1, 7, 12),\n",
       " (1, 7, 13),\n",
       " (1, 7, 14),\n",
       " (1, 7, 15),\n",
       " (1, 7, 16),\n",
       " (1, 7, 17),\n",
       " (1, 7, 18),\n",
       " (1, 7, 19),\n",
       " (1, 7, 20),\n",
       " (1, 7, 21),\n",
       " (1, 7, 22),\n",
       " (1, 7, 23),\n",
       " (1, 7, 24),\n",
       " (1, 7, 25),\n",
       " (1, 7, 26),\n",
       " (1, 7, 27),\n",
       " (1, 7, 28),\n",
       " (1, 7, 29),\n",
       " (1, 7, 30),\n",
       " (1, 7, 31),\n",
       " (1, 7, 32),\n",
       " (1, 7, 33),\n",
       " (1, 7, 34),\n",
       " (1, 7, 35),\n",
       " (1, 7, 36),\n",
       " (1, 7, 37),\n",
       " (1, 7, 38),\n",
       " (1, 7, 39),\n",
       " (1, 7, 40),\n",
       " (1, 7, 41),\n",
       " (1, 7, 42),\n",
       " (1, 7, 43),\n",
       " (1, 7, 44),\n",
       " (1, 7, 45),\n",
       " (1, 7, 46),\n",
       " (1, 7, 47),\n",
       " (1, 7, 48),\n",
       " (1, 7, 49),\n",
       " (1, 7, 50),\n",
       " (1, 7, 51),\n",
       " (1, 7, 52),\n",
       " (1, 7, 53),\n",
       " (1, 7, 54),\n",
       " (1, 7, 55),\n",
       " (1, 7, 56),\n",
       " (1, 7, 57),\n",
       " (1, 7, 58),\n",
       " (1, 7, 59),\n",
       " (1, 7, 60),\n",
       " (1, 7, 61),\n",
       " (1, 7, 62),\n",
       " (1, 7, 63),\n",
       " (1, 7, 64),\n",
       " (1, 7, 65),\n",
       " (1, 7, 66),\n",
       " (1, 7, 67),\n",
       " (1, 7, 68),\n",
       " (1, 7, 69),\n",
       " (1, 7, 70),\n",
       " (1, 7, 71),\n",
       " (1, 7, 72),\n",
       " (1, 7, 73),\n",
       " (1, 7, 74),\n",
       " (1, 7, 75),\n",
       " (1, 7, 76),\n",
       " (1, 7, 77),\n",
       " (1, 7, 78),\n",
       " (1, 7, 79),\n",
       " (1, 7, 80),\n",
       " (1, 7, 81),\n",
       " (1, 7, 82),\n",
       " (1, 7, 83),\n",
       " (1, 7, 84),\n",
       " (1, 7, 85),\n",
       " (1, 7, 86),\n",
       " (1, 7, 87),\n",
       " (1, 7, 88),\n",
       " (1, 7, 89),\n",
       " (1, 7, 90),\n",
       " (1, 7, 91),\n",
       " (1, 8, 1),\n",
       " (1, 8, 2),\n",
       " (1, 8, 3),\n",
       " (1, 8, 4),\n",
       " (1, 8, 5),\n",
       " (1, 8, 6),\n",
       " (1, 8, 7),\n",
       " (1, 8, 8),\n",
       " (1, 8, 9),\n",
       " (1, 8, 10),\n",
       " (1, 8, 11),\n",
       " (1, 8, 12),\n",
       " (1, 8, 13),\n",
       " (1, 8, 14),\n",
       " (1, 8, 15),\n",
       " (1, 8, 16),\n",
       " (1, 8, 17),\n",
       " (1, 8, 18),\n",
       " (1, 8, 19),\n",
       " (1, 8, 20),\n",
       " (1, 8, 21),\n",
       " (1, 8, 22),\n",
       " (1, 8, 23),\n",
       " (1, 8, 24),\n",
       " (1, 8, 25),\n",
       " (1, 8, 26),\n",
       " (1, 8, 27),\n",
       " (1, 8, 28),\n",
       " (1, 8, 29),\n",
       " (1, 8, 30),\n",
       " (1, 8, 31),\n",
       " (1, 8, 32),\n",
       " (1, 8, 33),\n",
       " (1, 8, 34),\n",
       " (1, 8, 35),\n",
       " (1, 8, 36),\n",
       " (1, 8, 37),\n",
       " (1, 8, 38),\n",
       " (1, 8, 39),\n",
       " (1, 8, 40),\n",
       " (1, 8, 41),\n",
       " (1, 8, 42),\n",
       " (1, 8, 43),\n",
       " (1, 8, 44),\n",
       " (1, 8, 45),\n",
       " (1, 8, 46),\n",
       " (1, 8, 47),\n",
       " (1, 8, 48),\n",
       " (1, 8, 49),\n",
       " (1, 8, 50),\n",
       " (1, 8, 51),\n",
       " (1, 8, 52),\n",
       " (1, 8, 53),\n",
       " (1, 8, 54),\n",
       " (1, 8, 55),\n",
       " (1, 8, 56),\n",
       " (1, 8, 57),\n",
       " (1, 8, 58),\n",
       " (1, 8, 59),\n",
       " (1, 8, 60),\n",
       " (1, 8, 61),\n",
       " (1, 8, 62),\n",
       " (1, 8, 63),\n",
       " (1, 8, 64),\n",
       " (1, 8, 65),\n",
       " (1, 8, 66),\n",
       " (1, 8, 67),\n",
       " (1, 8, 68),\n",
       " (1, 8, 69),\n",
       " (1, 8, 70),\n",
       " (1, 8, 71),\n",
       " (1, 8, 72),\n",
       " (1, 8, 73),\n",
       " (1, 8, 74),\n",
       " (1, 8, 75),\n",
       " (1, 8, 76),\n",
       " (1, 8, 77),\n",
       " (1, 8, 78),\n",
       " (1, 8, 79),\n",
       " (1, 8, 80),\n",
       " (1, 8, 81),\n",
       " (1, 8, 82),\n",
       " (1, 8, 83),\n",
       " (1, 8, 84),\n",
       " (1, 8, 85),\n",
       " (1, 8, 86),\n",
       " (1, 8, 87),\n",
       " (1, 8, 88),\n",
       " (1, 8, 89),\n",
       " (1, 8, 90),\n",
       " (1, 8, 91),\n",
       " (1, 9, 1),\n",
       " (1, 9, 2),\n",
       " (1, 9, 3),\n",
       " (1, 9, 4),\n",
       " (1, 9, 5),\n",
       " (1, 9, 6),\n",
       " (1, 9, 7),\n",
       " (1, 9, 8),\n",
       " (1, 9, 9),\n",
       " (1, 9, 10),\n",
       " (1, 9, 11),\n",
       " (1, 9, 12),\n",
       " (1, 9, 13),\n",
       " (1, 9, 14),\n",
       " (1, 9, 15),\n",
       " (1, 9, 16),\n",
       " (1, 9, 17),\n",
       " (1, 9, 18),\n",
       " (1, 9, 19),\n",
       " (1, 9, 20),\n",
       " (1, 9, 21),\n",
       " (1, 9, 22),\n",
       " (1, 9, 23),\n",
       " (1, 9, 24),\n",
       " (1, 9, 25),\n",
       " (1, 9, 26),\n",
       " (1, 9, 27),\n",
       " (1, 9, 28),\n",
       " (1, 9, 29),\n",
       " (1, 9, 30),\n",
       " (1, 9, 31),\n",
       " (1, 9, 32),\n",
       " (1, 9, 33),\n",
       " (1, 9, 34),\n",
       " (1, 9, 35),\n",
       " (1, 9, 36),\n",
       " (1, 9, 37),\n",
       " (1, 9, 38),\n",
       " (1, 9, 39),\n",
       " (1, 9, 40),\n",
       " (1, 9, 41),\n",
       " (1, 9, 42),\n",
       " (1, 9, 43),\n",
       " (1, 9, 44),\n",
       " (1, 9, 45),\n",
       " (1, 9, 46),\n",
       " (1, 9, 47),\n",
       " (1, 9, 48),\n",
       " (1, 9, 49),\n",
       " (1, 9, 50),\n",
       " (1, 9, 51),\n",
       " (1, 9, 52),\n",
       " (1, 9, 53),\n",
       " (1, 9, 54),\n",
       " (1, 9, 55),\n",
       " (1, 9, 56),\n",
       " (1, 9, 57),\n",
       " (1, 9, 58),\n",
       " (1, 9, 59),\n",
       " (1, 9, 60),\n",
       " (1, 9, 61),\n",
       " (1, 9, 62),\n",
       " (1, 9, 63),\n",
       " (1, 9, 64),\n",
       " (1, 9, 65),\n",
       " (1, 9, 66),\n",
       " (1, 9, 67),\n",
       " (1, 9, 68),\n",
       " (1, 9, 69),\n",
       " (1, 9, 70),\n",
       " (1, 9, 71),\n",
       " (1, 9, 72),\n",
       " (1, 9, 73),\n",
       " (1, 9, 74),\n",
       " (1, 9, 75),\n",
       " (1, 9, 76),\n",
       " (1, 9, 77),\n",
       " (1, 9, 78),\n",
       " (1, 9, 79),\n",
       " (1, 9, 80),\n",
       " (1, 9, 81),\n",
       " (1, 9, 82),\n",
       " (1, 9, 83),\n",
       " (1, 9, 84),\n",
       " (1, 9, 85),\n",
       " (1, 9, 86),\n",
       " (1, 9, 87),\n",
       " (1, 9, 88),\n",
       " (1, 9, 89),\n",
       " (1, 9, 90),\n",
       " (1, 9, 91),\n",
       " (1, 10, 1),\n",
       " (1, 10, 2),\n",
       " (1, 10, 3),\n",
       " (1, 10, 4),\n",
       " (1, 10, 5),\n",
       " (1, 10, 6),\n",
       " (1, 10, 7),\n",
       " (1, 10, 8),\n",
       " (1, 10, 9),\n",
       " (1, 10, 10),\n",
       " (1, 10, 11),\n",
       " (1, 10, 12),\n",
       " (1, 10, 13),\n",
       " (1, 10, 14),\n",
       " (1, 10, 15),\n",
       " (1, 10, 16),\n",
       " (1, 10, 17),\n",
       " (1, 10, 18),\n",
       " (1, 10, 19),\n",
       " (1, 10, 20),\n",
       " (1, 10, 21),\n",
       " (1, 10, 22),\n",
       " (1, 10, 23),\n",
       " (1, 10, 24),\n",
       " (1, 10, 25),\n",
       " (1, 10, 26),\n",
       " (1, 10, 27),\n",
       " (1, 10, 28),\n",
       " (1, 10, 29),\n",
       " (1, 10, 30),\n",
       " (1, 10, 31),\n",
       " (1, 10, 32),\n",
       " (1, 10, 33),\n",
       " (1, 10, 34),\n",
       " (1, 10, 35),\n",
       " (1, 10, 36),\n",
       " (1, 10, 37),\n",
       " (1, 10, 38),\n",
       " (1, 10, 39),\n",
       " (1, 10, 40),\n",
       " (1, 10, 41),\n",
       " (1, 10, 42),\n",
       " (1, 10, 43),\n",
       " (1, 10, 44),\n",
       " (1, 10, 45),\n",
       " (1, 10, 46),\n",
       " (1, 10, 47),\n",
       " (1, 10, 48),\n",
       " (1, 10, 49),\n",
       " (1, 10, 50),\n",
       " (1, 10, 51),\n",
       " (1, 10, 52),\n",
       " (1, 10, 53),\n",
       " (1, 10, 54),\n",
       " (1, 10, 55),\n",
       " (1, 10, 56),\n",
       " (1, 10, 57),\n",
       " (1, 10, 58),\n",
       " (1, 10, 59),\n",
       " (1, 10, 60),\n",
       " (1, 10, 61),\n",
       " (1, 10, 62),\n",
       " (1, 10, 63),\n",
       " (1, 10, 64),\n",
       " (1, 10, 65),\n",
       " (1, 10, 66),\n",
       " (1, 10, 67),\n",
       " (1, 10, 68),\n",
       " (1, 10, 69),\n",
       " (1, 10, 70),\n",
       " (1, 10, 71),\n",
       " (1, 10, 72),\n",
       " (1, 10, 73),\n",
       " (1, 10, 74),\n",
       " (1, 10, 75),\n",
       " (1, 10, 76),\n",
       " (1, 10, 77),\n",
       " (1, 10, 78),\n",
       " (1, 10, 79),\n",
       " (1, 10, 80),\n",
       " (1, 10, 81),\n",
       " (1, 10, 82),\n",
       " (1, 10, 83),\n",
       " (1, 10, 84),\n",
       " (1, 10, 85),\n",
       " (1, 10, 86),\n",
       " (1, 10, 87),\n",
       " (1, 10, 88),\n",
       " (1, 10, 89),\n",
       " (1, 10, 90),\n",
       " (1, 10, 91),\n",
       " (1, 11, 1),\n",
       " (1, 11, 2),\n",
       " (1, 11, 3),\n",
       " (1, 11, 4),\n",
       " (1, 11, 5),\n",
       " (1, 11, 6),\n",
       " (1, 11, 7),\n",
       " (1, 11, 8),\n",
       " (1, 11, 9),\n",
       " (1, 11, 10),\n",
       " (1, 11, 11),\n",
       " (1, 11, 12),\n",
       " (1, 11, 13),\n",
       " (1, 11, 14),\n",
       " (1, 11, 15),\n",
       " (1, 11, 16),\n",
       " (1, 11, 17),\n",
       " (1, 11, 18),\n",
       " (1, 11, 19),\n",
       " (1, 11, 20),\n",
       " (1, 11, 21),\n",
       " (1, 11, 22),\n",
       " (1, 11, 23),\n",
       " (1, 11, 24),\n",
       " (1, 11, 25),\n",
       " (1, 11, 26),\n",
       " (1, 11, 27),\n",
       " (1, 11, 28),\n",
       " (1, 11, 29),\n",
       " (1, 11, 30),\n",
       " (1, 11, 31),\n",
       " (1, 11, 32),\n",
       " (1, 11, 33),\n",
       " (1, 11, 34),\n",
       " (1, 11, 35),\n",
       " (1, 11, 36),\n",
       " (1, 11, 37),\n",
       " (1, 11, 38),\n",
       " (1, 11, 39),\n",
       " (1, 11, 40),\n",
       " (1, 11, 41),\n",
       " (1, 11, 42),\n",
       " (1, 11, 43),\n",
       " (1, 11, 44),\n",
       " (1, 11, 45),\n",
       " (1, 11, 46),\n",
       " (1, 11, 47),\n",
       " (1, 11, 48),\n",
       " (1, 11, 49),\n",
       " (1, 11, 50),\n",
       " (1, 11, 51),\n",
       " (1, 11, 52),\n",
       " (1, 11, 53),\n",
       " (1, 11, 54),\n",
       " (1, 11, 55),\n",
       " (1, 11, 56),\n",
       " (1, 11, 57),\n",
       " (1, 11, 58),\n",
       " (1, 11, 59),\n",
       " (1, 11, 60),\n",
       " (1, 11, 61),\n",
       " (1, 11, 62),\n",
       " (1, 11, 63),\n",
       " (1, 11, 64),\n",
       " (1, 11, 65),\n",
       " (1, 11, 66),\n",
       " (1, 11, 67),\n",
       " (1, 11, 68),\n",
       " (1, 11, 69),\n",
       " (1, 11, 70),\n",
       " (1, 11, 71),\n",
       " (1, 11, 72),\n",
       " (1, 11, 73),\n",
       " (1, 11, 74),\n",
       " (1, 11, 75),\n",
       " (1, 11, 76),\n",
       " (1, 11, 77),\n",
       " (1, 11, 78),\n",
       " (1, 11, 79),\n",
       " (1, 11, 80),\n",
       " (1, 11, 81),\n",
       " (1, 11, 82),\n",
       " (1, 11, 83),\n",
       " (1, 11, 84),\n",
       " (1, 11, 85),\n",
       " (1, 11, 86),\n",
       " (1, 11, 87),\n",
       " (1, 11, 88),\n",
       " (1, 11, 89),\n",
       " (1, 11, 90),\n",
       " ...]"
      ]
     },
     "execution_count": 47,
     "metadata": {},
     "output_type": "execute_result"
    }
   ],
   "source": [
    "# shape (902629, 3)\n",
    "grid"
   ]
  },
  {
   "cell_type": "code",
   "execution_count": 29,
   "metadata": {},
   "outputs": [],
   "source": [
    "(xx,yy,zz) = (1,2,3)"
   ]
  },
  {
   "cell_type": "code",
   "execution_count": 30,
   "metadata": {},
   "outputs": [
    {
     "data": {
      "text/plain": [
       "1"
      ]
     },
     "execution_count": 30,
     "metadata": {},
     "output_type": "execute_result"
    }
   ],
   "source": [
    "xx"
   ]
  },
  {
   "cell_type": "code",
   "execution_count": 34,
   "metadata": {},
   "outputs": [],
   "source": [
    "a = [i for i in range(902926)]\n",
    "a =  \n"
   ]
  },
  {
   "cell_type": "code",
   "execution_count": 39,
   "metadata": {},
   "outputs": [
    {
     "ename": "SyntaxError",
     "evalue": "invalid syntax (<ipython-input-39-7f72950a0ead>, line 1)",
     "output_type": "error",
     "traceback": [
      "\u001b[0;36m  File \u001b[0;32m\"<ipython-input-39-7f72950a0ead>\"\u001b[0;36m, line \u001b[0;32m1\u001b[0m\n\u001b[0;31m    def a(b,xx,yy,zz=1,2,3):\u001b[0m\n\u001b[0m                       ^\u001b[0m\n\u001b[0;31mSyntaxError\u001b[0m\u001b[0;31m:\u001b[0m invalid syntax\n"
     ]
    }
   ],
   "source": [
    "def a(b,xx,yy,zz=1,2,3):\n",
    "    print(xx)\n",
    "    return"
   ]
  },
  {
   "cell_type": "code",
   "execution_count": 38,
   "metadata": {},
   "outputs": [
    {
     "ename": "TypeError",
     "evalue": "a() missing 2 required positional arguments: 'xx' and 'yy'",
     "output_type": "error",
     "traceback": [
      "\u001b[0;31m---------------------------------------------------------------------------\u001b[0m",
      "\u001b[0;31mTypeError\u001b[0m                                 Traceback (most recent call last)",
      "\u001b[0;32m<ipython-input-38-b4d7015b7c07>\u001b[0m in \u001b[0;36m<module>\u001b[0;34m\u001b[0m\n\u001b[0;32m----> 1\u001b[0;31m \u001b[0ma\u001b[0m\u001b[0;34m(\u001b[0m\u001b[0mb\u001b[0m\u001b[0;34m=\u001b[0m\u001b[0;36m1\u001b[0m\u001b[0;34m)\u001b[0m\u001b[0;34m\u001b[0m\u001b[0;34m\u001b[0m\u001b[0m\n\u001b[0m",
      "\u001b[0;31mTypeError\u001b[0m: a() missing 2 required positional arguments: 'xx' and 'yy'"
     ]
    }
   ],
   "source": [
    "a(b=1)"
   ]
  },
  {
   "cell_type": "code",
   "execution_count": 49,
   "metadata": {},
   "outputs": [
    {
     "data": {
      "text/plain": [
       "902629"
      ]
     },
     "execution_count": 49,
     "metadata": {},
     "output_type": "execute_result"
    }
   ],
   "source": [
    "91*109*91"
   ]
  },
  {
   "cell_type": "code",
   "execution_count": 50,
   "metadata": {},
   "outputs": [
    {
     "data": {
      "text/plain": [
       "76151.0"
      ]
     },
     "execution_count": 50,
     "metadata": {},
     "output_type": "execute_result"
    }
   ],
   "source": [
    "228453/3"
   ]
  },
  {
   "cell_type": "code",
   "execution_count": 53,
   "metadata": {},
   "outputs": [
    {
     "data": {
      "text/plain": [
       "35937"
      ]
     },
     "execution_count": 53,
     "metadata": {},
     "output_type": "execute_result"
    }
   ],
   "source": [
    "33*33*33"
   ]
  },
  {
   "cell_type": "code",
   "execution_count": 54,
   "metadata": {},
   "outputs": [
    {
     "data": {
      "text/plain": [
       "3.7315259230354703"
      ]
     },
     "execution_count": 54,
     "metadata": {},
     "output_type": "execute_result"
    }
   ],
   "source": [
    "17.1/np.sqrt(21)"
   ]
  },
  {
   "cell_type": "code",
   "execution_count": 56,
   "metadata": {
    "scrolled": true
   },
   "outputs": [
    {
     "data": {
      "text/plain": [
       "27.31591252235901"
      ]
     },
     "execution_count": 56,
     "metadata": {},
     "output_type": "execute_result"
    }
   ],
   "source": [
    "11.6 * np.sqrt(8*np.log(2))"
   ]
  },
  {
   "cell_type": "code",
   "execution_count": 57,
   "metadata": {},
   "outputs": [
    {
     "data": {
      "text/plain": [
       "13.422474256676411"
      ]
     },
     "execution_count": 57,
     "metadata": {},
     "output_type": "execute_result"
    }
   ],
   "source": [
    "5.7 * np.sqrt(8*np.log(2))"
   ]
  },
  {
   "cell_type": "code",
   "execution_count": 61,
   "metadata": {},
   "outputs": [
    {
     "data": {
      "text/plain": [
       "14.491693422381932"
      ]
     },
     "execution_count": 61,
     "metadata": {},
     "output_type": "execute_result"
    }
   ],
   "source": [
    "np.sqrt(13.422474256676411**2 + (27.31591252235901/np.sqrt(25))**2)"
   ]
  },
  {
   "cell_type": "code",
   "execution_count": 60,
   "metadata": {},
   "outputs": [
    {
     "data": {
      "text/plain": [
       "6.23684866544481"
      ]
     },
     "execution_count": 60,
     "metadata": {},
     "output_type": "execute_result"
    }
   ],
   "source": [
    "14.686531237389438/2.3548"
   ]
  },
  {
   "cell_type": "code",
   "execution_count": 62,
   "metadata": {},
   "outputs": [
    {
     "data": {
      "text/plain": [
       "3.7315259230354703"
      ]
     },
     "execution_count": 62,
     "metadata": {},
     "output_type": "execute_result"
    }
   ],
   "source": [
    "17.1/np.sqrt(21)"
   ]
  },
  {
   "cell_type": "code",
   "execution_count": 63,
   "metadata": {},
   "outputs": [
    {
     "data": {
      "text/plain": [
       "9.191533371221894"
      ]
     },
     "execution_count": 63,
     "metadata": {},
     "output_type": "execute_result"
    }
   ],
   "source": [
    "np.sqrt(8.4**2 + 3.7315259230354703**2)"
   ]
  },
  {
   "cell_type": "code",
   "execution_count": 65,
   "metadata": {},
   "outputs": [
    {
     "data": {
      "text/plain": [
       "49.411764705882355"
      ]
     },
     "execution_count": 65,
     "metadata": {},
     "output_type": "execute_result"
    }
   ],
   "source": [
    "420/8.5"
   ]
  },
  {
   "cell_type": "code",
   "execution_count": 66,
   "metadata": {},
   "outputs": [
    {
     "data": {
      "text/plain": [
       "677.7"
      ]
     },
     "execution_count": 66,
     "metadata": {},
     "output_type": "execute_result"
    }
   ],
   "source": [
    "22.59*30"
   ]
  },
  {
   "cell_type": "code",
   "execution_count": null,
   "metadata": {},
   "outputs": [],
   "source": []
  }
 ],
 "metadata": {
  "kernelspec": {
   "display_name": "Python 3",
   "language": "python",
   "name": "python3"
  },
  "language_info": {
   "codemirror_mode": {
    "name": "ipython",
    "version": 3
   },
   "file_extension": ".py",
   "mimetype": "text/x-python",
   "name": "python",
   "nbconvert_exporter": "python",
   "pygments_lexer": "ipython3",
   "version": "3.7.6"
  }
 },
 "nbformat": 4,
 "nbformat_minor": 4
}
